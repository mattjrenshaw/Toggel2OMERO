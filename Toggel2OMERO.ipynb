{
 "cells": [
  {
   "cell_type": "code",
   "execution_count": null,
   "id": "6219ff5d-a333-4427-8ad5-e89da0f5802f",
   "metadata": {},
   "outputs": [],
   "source": [
    "import Toggel_utils as toggel\n",
    "import omero_utils as omero"
   ]
  },
  {
   "cell_type": "code",
   "execution_count": null,
   "id": "d9072d97-763e-4e48-a4f1-3b50ce6271ac",
   "metadata": {},
   "outputs": [],
   "source": [
    "import numpy as np\n",
    "from pathlib import Path"
   ]
  },
  {
   "cell_type": "markdown",
   "id": "0b3a0ab9-fb3f-4c42-9e39-207458231876",
   "metadata": {},
   "source": [
    "### upload Frequency Domain FLIM data to OMERO"
   ]
  },
  {
   "cell_type": "code",
   "execution_count": null,
   "id": "511d2eb8-5cb7-4fff-8ca6-184d0e678900",
   "metadata": {},
   "outputs": [],
   "source": [
    "# connect to OMERO\n",
    "conn = omero.connect(\"rensham\")"
   ]
  },
  {
   "cell_type": "code",
   "execution_count": null,
   "id": "27722e0c-13a7-4733-91af-a0da2e825eab",
   "metadata": {},
   "outputs": [],
   "source": [
    "# define path to folder containing raw .fli files\n",
    "dir_path = r'C:\\Users\\rensham\\OneDrive - The Francis Crick Institute\\repositories\\temp_files'"
   ]
  },
  {
   "cell_type": "code",
   "execution_count": null,
   "id": "6883021c-3c7e-4898-8ab6-3712d2a611fd",
   "metadata": {},
   "outputs": [],
   "source": [
    "# process all .fli files in dir_path\n",
    "\n",
    "folder = Path(dir_path) # string to Path\n",
    "\n",
    "project_name = \"Toggel\" # store all Toggel phase series within same 'Toggel' project\n",
    "dataset_name = folder.stem\n",
    "\n",
    "project_object = omero.create_project(conn, project_name) # get or create project called project_name\n",
    "project_id = project_object.getId()\n",
    "\n",
    "dataset_object = omero.create_dataset(conn, dataset_name, project_id) # get or create dataset called dataset_name within project_id\n",
    "dataset_id = dataset_object.getId()\n",
    "\n",
    "for file in folder.glob(\"*.fli\"):\n",
    "    filename = file.stem\n",
    "    acquisition_datetime = filename[0:19]\n",
    "    print(filename)\n",
    "\n",
    "    # read .fli file and get metadata    \n",
    "    md, phase_images, dark_image = toggel.read_fli_file(file)\n",
    "    sizeX, sizeY, n_phases, mod_frequency = (md['LAYOUT'].get(key) for key in ('x', 'y', 'phases', 'modulationFrequency'))\n",
    "    sensor_gain, ref = (md['ACQUISITION SETTINGS'].get(key) for key in ('sensorGain', 'RefLifetime'))\n",
    "    \n",
    "    if float(ref) > 0:\n",
    "        acquisition_type = \"reference\"\n",
    "    else:\n",
    "        acquisition_type = \"sample\"\n",
    "\n",
    "    key_value_pairs = []\n",
    "    key_value_pairs.append([\"Imaging Modality\", \"Frequency Domain FLIM\"])\n",
    "    key_value_pairs.append([\"acquisition_datetime\", str(acquisition_datetime)])\n",
    "    key_value_pairs.append([\"n_phases\", str(n_phases)])\n",
    "    key_value_pairs.append([\"modulation_frequency_Hz\", str(mod_frequency)])\n",
    "    key_value_pairs.append([\"sensor_gain\", str(sensor_gain)])\n",
    "    key_value_pairs.append([\"reference_lifetime_ns\", str(ref)])\n",
    "    key_value_pairs.append([\"acquisition_type\", str(acquisition_type)])\n",
    "\n",
    "    # subtract camera dark image from phase images\n",
    "    phase_series = np.empty_like(phase_images, dtype=np.float32)\n",
    "    for ph, plane in enumerate(phase_images):\n",
    "        phase_series[ph] = plane.astype(np.float32) - dark_image.astype(np.float32)\n",
    "\n",
    "    # upload images to OMERO\n",
    "    image_obj = omero.create_image(conn, filename, dataset_id, key_value_pairs, phase_series, channel_names=None,\n",
    "                             sizeT=int(n_phases), \n",
    "                             description=\"FD FLIM phase images\")\n",
    "    "
   ]
  },
  {
   "cell_type": "code",
   "execution_count": null,
   "id": "2b971212-e283-4d1e-b0bf-40b22c263fa8",
   "metadata": {},
   "outputs": [],
   "source": []
  },
  {
   "cell_type": "code",
   "execution_count": null,
   "id": "564ef4fc-197b-43d4-b48d-0f195ed2cc85",
   "metadata": {},
   "outputs": [],
   "source": []
  },
  {
   "cell_type": "code",
   "execution_count": null,
   "id": "3970b651-8b80-4eb1-a825-80fcbddf05ae",
   "metadata": {},
   "outputs": [],
   "source": []
  },
  {
   "cell_type": "code",
   "execution_count": null,
   "id": "e79fc7f9-12fa-4c7c-893f-0cbc7b2c429f",
   "metadata": {},
   "outputs": [],
   "source": []
  },
  {
   "cell_type": "code",
   "execution_count": null,
   "id": "622f5e7f-a259-4160-8823-7978cfb4878e",
   "metadata": {},
   "outputs": [],
   "source": []
  },
  {
   "cell_type": "code",
   "execution_count": null,
   "id": "05829ef5-ba9c-4390-933d-86a946bb9f89",
   "metadata": {},
   "outputs": [],
   "source": []
  },
  {
   "cell_type": "code",
   "execution_count": null,
   "id": "f512fbfe-64ca-486f-ba69-b5177df80b1a",
   "metadata": {},
   "outputs": [],
   "source": []
  },
  {
   "cell_type": "code",
   "execution_count": null,
   "id": "72c86104-655d-46b2-a546-5360f1dc1020",
   "metadata": {},
   "outputs": [],
   "source": []
  },
  {
   "cell_type": "markdown",
   "id": "d57b694b-a690-472e-aca1-60057a836d42",
   "metadata": {},
   "source": [
    "### define path"
   ]
  },
  {
   "cell_type": "code",
   "execution_count": null,
   "id": "b4ea359a-ca9b-4a7d-8064-b3e2edadbe58",
   "metadata": {},
   "outputs": [],
   "source": [
    "path_to_file = 'N:\\\\outputs\\\\treismanr\\\\fromMatt_Toggel\\\\20250902\\\\raw\\\\2025-09-02_13-21-43-sample-coumarin_ref_4-3ns.fli'"
   ]
  },
  {
   "cell_type": "code",
   "execution_count": null,
   "id": "68346c76-69f8-45f7-9604-e4504581255d",
   "metadata": {},
   "outputs": [],
   "source": [
    "path_to_file = r'C:\\Users\\rensham\\OneDrive - The Francis Crick Institute\\repositories\\temp_files\\2025-09-05_15-06-19-reference-20x_coumarin_4-3ns.fli'"
   ]
  },
  {
   "cell_type": "code",
   "execution_count": null,
   "id": "0f117783-704d-4825-9986-36988d81efa0",
   "metadata": {},
   "outputs": [],
   "source": [
    "path_to_file = r'C:\\Users\\rensham\\OneDrive - The Francis Crick Institute\\repositories\\temp_files\\2025-09-05_15-10-01-sample-20x_purified_proteins.fli'"
   ]
  },
  {
   "cell_type": "code",
   "execution_count": null,
   "id": "b4953d29-c341-4d22-af70-c1e6ab6394a8",
   "metadata": {},
   "outputs": [],
   "source": []
  },
  {
   "cell_type": "code",
   "execution_count": null,
   "id": "7a74a0c4-f92f-41a2-b32e-78af39b582e5",
   "metadata": {},
   "outputs": [],
   "source": []
  },
  {
   "cell_type": "code",
   "execution_count": null,
   "id": "b9da377a-07d2-42df-aba0-82660139b59e",
   "metadata": {},
   "outputs": [],
   "source": []
  },
  {
   "cell_type": "code",
   "execution_count": null,
   "id": "55227c0a-4b27-4b79-9c78-53d915f604fd",
   "metadata": {},
   "outputs": [],
   "source": []
  },
  {
   "cell_type": "code",
   "execution_count": null,
   "id": "9f054252-b1e0-4ab6-b9c7-3eaead36848a",
   "metadata": {},
   "outputs": [],
   "source": []
  },
  {
   "cell_type": "markdown",
   "id": "82da6e0b-59d6-4c82-a651-ce8cf7e7271d",
   "metadata": {},
   "source": [
    "### read raw .fli file"
   ]
  },
  {
   "cell_type": "code",
   "execution_count": null,
   "id": "78b30a21-1e97-4ee4-b5f0-1019d3ac020e",
   "metadata": {},
   "outputs": [],
   "source": [
    "file = Path(path_to_file)\n",
    "filename = file.stem\n",
    "acquisition_datetime = filename[0:19]\n",
    "print(filename)"
   ]
  },
  {
   "cell_type": "code",
   "execution_count": null,
   "id": "3202e9b1-ad69-4456-91b4-8eafb9da1bfc",
   "metadata": {},
   "outputs": [],
   "source": [
    "md, phase_images, dark_image = toggel.read_fli_file(path_to_file)"
   ]
  },
  {
   "cell_type": "markdown",
   "id": "c01295a6-9e63-40ed-a277-5ce9e469b606",
   "metadata": {},
   "source": [
    "### extract metadata"
   ]
  },
  {
   "cell_type": "code",
   "execution_count": null,
   "id": "9967b3d3-59ac-4cff-bfa9-234e1394f566",
   "metadata": {},
   "outputs": [],
   "source": [
    "sizeX, sizeY, n_phases, mod_frequency = (md['LAYOUT'].get(key) for key in ('x', 'y', 'phases', 'modulationFrequency'))\n",
    "sensor_gain, ref = (md['ACQUISITION SETTINGS'].get(key) for key in ('sensorGain', 'RefLifetime'))"
   ]
  },
  {
   "cell_type": "code",
   "execution_count": null,
   "id": "febc200f-73fe-4f66-93b4-3f23bb08aded",
   "metadata": {},
   "outputs": [],
   "source": [
    "sizeX, sizeY, n_phases, mod_frequency"
   ]
  },
  {
   "cell_type": "code",
   "execution_count": null,
   "id": "2698f10a-c33d-4e40-a174-d618894d7dc5",
   "metadata": {},
   "outputs": [],
   "source": [
    "sensor_gain, ref"
   ]
  },
  {
   "cell_type": "code",
   "execution_count": null,
   "id": "2ae7b653-2d70-4795-b38d-6814b71edd68",
   "metadata": {},
   "outputs": [],
   "source": [
    "md"
   ]
  },
  {
   "cell_type": "code",
   "execution_count": null,
   "id": "561673ea-d872-4895-a878-7165a5443631",
   "metadata": {},
   "outputs": [],
   "source": [
    "md['TIMESTAMPS']['t0']"
   ]
  },
  {
   "cell_type": "markdown",
   "id": "94340332-1c74-44f9-9f50-142302aec1fc",
   "metadata": {},
   "source": [
    "### subtract dark image from phase series"
   ]
  },
  {
   "cell_type": "code",
   "execution_count": null,
   "id": "c26784d7-5e4a-4a54-907d-3b4a07b9b3c1",
   "metadata": {},
   "outputs": [],
   "source": [
    "# convert to 32-bit float\n",
    "# subtract dark image from image phase series\n",
    "phase_series = np.empty_like(phase_images, dtype=np.float32)\n",
    "for ph, plane in enumerate(phase_images):\n",
    "    phase_series[ph] = plane.astype(np.float32) - dark_image.astype(np.float32)"
   ]
  },
  {
   "cell_type": "code",
   "execution_count": null,
   "id": "bb9eee81-faf6-43bd-98ba-62b98bcb5d71",
   "metadata": {},
   "outputs": [],
   "source": []
  },
  {
   "cell_type": "code",
   "execution_count": null,
   "id": "3aa260c9-42f3-4653-aab2-f9b337ebc95b",
   "metadata": {},
   "outputs": [],
   "source": []
  },
  {
   "cell_type": "code",
   "execution_count": null,
   "id": "12136fd3-d920-4664-8143-97afc6a1f460",
   "metadata": {},
   "outputs": [],
   "source": [
    "from omero.gateway import MapAnnotationWrapper\n",
    "from omero.constants.metadata import NSCLIENTMAPANNOTATION\n",
    "from omero.model.enums import UnitsLength\n",
    "from omero.model import LengthI\n",
    "from omero.model import DatasetI, ProjectI, ProjectDatasetLinkI\n",
    "from omero.rtypes import rstring, rlong, robject\n",
    "\n",
    "def create_project(conn, project_name):\n",
    "    \"\"\" \n",
    "    Create omero project.\n",
    "    Checks if a project with project_name exists.\n",
    "    \n",
    "    \n",
    "    Parameters:\n",
    "        conn: Connected BlitzGateway.\n",
    "        project_name (str): project name.\n",
    "    \n",
    "    Returns:\n",
    "        OMERO project object.\n",
    "    \n",
    "    \"\"\"\n",
    "    # Check is project exists\n",
    "    project_exists = None\n",
    "    for proj in conn.getObjects(\"Project\"):\n",
    "        if proj.getName() == str(project_name):\n",
    "            project_exists = proj\n",
    "            break\n",
    "\n",
    "    if project_exists:\n",
    "        print(f\"Project already exists: ID = {project_exists.getId()}, Name = {project_exists.getName()}\")\n",
    "        project_obj = project_exists\n",
    "        project_id = project_obj.getId()\n",
    "        project_name = project_obj.getName()\n",
    "\n",
    "    else:\n",
    "        # Create a new project\n",
    "        project_obj = ProjectI()\n",
    "        project_obj.setName(rstring(project_name))\n",
    "        project_obj = conn.getUpdateService().saveAndReturnObject(project_obj)\n",
    "        project_id = project_obj.getId().getValue()\n",
    "        project_name = project_obj.getName().getValue()\n",
    "        print(f\"Created new project: ID = {project_id}, Name = {project_name}\")\n",
    "\n",
    "    # Re-load project object\n",
    "    project_obj = conn.getObject(\"Project\", project_id)\n",
    "    return project_obj"
   ]
  },
  {
   "cell_type": "code",
   "execution_count": null,
   "id": "4e48e17e-3e54-4ccb-9d35-970ca0df16c9",
   "metadata": {},
   "outputs": [],
   "source": [
    "project_obj = create_project(conn, \"Toggel\")"
   ]
  },
  {
   "cell_type": "code",
   "execution_count": null,
   "id": "00914cee-ac78-4689-8f23-35e588a82069",
   "metadata": {},
   "outputs": [],
   "source": [
    "def create_dataset(conn, dataset_name, project_id):\n",
    "    \"\"\" \n",
    "    Create omero dataset within defined project.\n",
    "    Checks if a dataset with dataset_name exists.\n",
    "    Creates and returns new dataset object or returns existing.\n",
    "    \n",
    "    Parameters:\n",
    "        conn: Connected BlitzGateway.\n",
    "        dataset_name (str): dataset name.\n",
    "        project_id (int): \n",
    "        \n",
    "    Returns:\n",
    "        OMERO dataset object.\n",
    "    \n",
    "    \"\"\"\n",
    "    # Search for existing project with the same name\n",
    "    dataset_exists = None\n",
    "    project_obj = conn.getObject(\"Project\", project_id)\n",
    "    if project_obj.countChildren() > 0:\n",
    "        for dataset in project_obj.listChildren():\n",
    "            if dataset.getName() == str(dataset_name):\n",
    "                dataset_exists = dataset\n",
    "                break \n",
    "\n",
    "    if dataset_exists:\n",
    "        print(f\"Dataset already exists: ID = {dataset_exists.getId()}, Name = {dataset_exists.getName()}\")\n",
    "        dataset_obj = dataset_exists\n",
    "        dataset_id = dataset_obj.getId()\n",
    "        dataset_name = dataset_obj.getName()\n",
    "\n",
    "    else:\n",
    "        # Create a new dataset\n",
    "        dataset_obj = DatasetI()\n",
    "        dataset_obj.setName(rstring(dataset_name))\n",
    "        dataset_obj = conn.getUpdateService().saveAndReturnObject(dataset_obj)\n",
    "        dataset_id = dataset_obj.getId().getValue()\n",
    "        dataset_name = dataset_obj.getName().getValue()\n",
    "        print(f\"Created new dataset: ID = {dataset_id}, Name = {dataset_name}\")\n",
    "\n",
    "        # link dataset to project\n",
    "        link = ProjectDatasetLinkI()\n",
    "        link.setParent(ProjectI(project_obj.getId(), False))\n",
    "        link.setChild(dataset_obj)\n",
    "        conn.getUpdateService().saveObject(link)\n",
    "\n",
    "    # Re-load dataset object\n",
    "    dataset_obj = conn.getObject(\"Dataset\", dataset_id)\n",
    "    return dataset_obj"
   ]
  },
  {
   "cell_type": "code",
   "execution_count": null,
   "id": "d06507b0-5776-42b0-8a02-f1ec1c9fb431",
   "metadata": {},
   "outputs": [],
   "source": [
    "project_id = project_obj.getId()\n",
    "project_id"
   ]
  },
  {
   "cell_type": "code",
   "execution_count": null,
   "id": "fad938ec-74cb-44e9-a76d-d5deabc7195d",
   "metadata": {},
   "outputs": [],
   "source": [
    "dataset_object = create_dataset(conn, \"Test_Create_Dataset\", project_id)"
   ]
  },
  {
   "cell_type": "code",
   "execution_count": null,
   "id": "2f91795c-c46e-4ef8-856b-675c1a282fca",
   "metadata": {},
   "outputs": [],
   "source": [
    "if float(ref) > 0:\n",
    "    acquisition_type = \"reference\"\n",
    "else:\n",
    "    acquisition_type = \"sample\""
   ]
  },
  {
   "cell_type": "code",
   "execution_count": null,
   "id": "330ed4df-a0eb-4c8a-a772-0d0de6fb627a",
   "metadata": {},
   "outputs": [],
   "source": [
    "key_value_pairs = []\n",
    "key_value_pairs.append([\"Imaging Modality\", \"Frequency Domain FLIM\"])\n",
    "key_value_pairs.append([\"acquisition_datetime\", str(acquisition_datetime)])\n",
    "key_value_pairs.append([\"n_phases\", str(n_phases)])\n",
    "key_value_pairs.append([\"modulation_frequency_Hz\", str(mod_frequency)])\n",
    "key_value_pairs.append([\"sensor_gain\", str(sensor_gain)])\n",
    "key_value_pairs.append([\"reference_lifetime_ns\", str(ref)])\n",
    "key_value_pairs.append([\"acquisition_type\", str(acquisition_type)])"
   ]
  },
  {
   "cell_type": "code",
   "execution_count": null,
   "id": "de834de4-97a8-4020-b068-27a3dd562e34",
   "metadata": {},
   "outputs": [],
   "source": [
    "key_value_pairs"
   ]
  },
  {
   "cell_type": "code",
   "execution_count": null,
   "id": "2f43b874-0049-4424-ace9-09a64a8a9cd9",
   "metadata": {},
   "outputs": [],
   "source": [
    "def create_image(conn, image_name, dataset_id, key_value_pairs, image_planes, channel_names=None, description=None, \n",
    "                 sizeZ=1, sizeC=1, sizeT=1, pixel_size_um = 0, \n",
    "                 sourceImageId=None, channelList=None):\n",
    "    \"\"\" \n",
    "    Create omero image within defined dataset.\n",
    "    Checks existing image with image_name.\n",
    "    Creates and returns new image object or returns existing.\n",
    "    \n",
    "    Parameters:\n",
    "        conn: Connected BlitzGateway.\n",
    "        image_name (str): name of new image.\n",
    "        dataset_id (int): link image to this dataset\n",
    "        key_value_pairs (list): List of metadata [key, value] pairs for MapAnnotations\n",
    "        image_planes (numpy_ndarray): image planes in numpy sequence\n",
    "        description (str): description for new image\n",
    "        \n",
    "    Returns:\n",
    "        OMERO image object.\n",
    "    \n",
    "    \"\"\"\n",
    "    # Search for existing project with the same name\n",
    "    image_exists = None\n",
    "    dataset_obj = conn.getObject(\"Dataset\", dataset_id)\n",
    "    if dataset_obj.countChildren() > 0:\n",
    "        for image in dataset_obj.listChildren():\n",
    "            if image.getName() == str(image_name):\n",
    "                image_exists = image\n",
    "                break \n",
    "\n",
    "    if image_exists:\n",
    "        print(f\"Image already exists: ID = {image_exists.getId()}, Name = {image_exists.getName()}\")\n",
    "        image_obj = image_exists\n",
    "        image_id = image_obj.getId()\n",
    "        image_name = image_obj.getName()\n",
    "\n",
    "    else:\n",
    "        # Stack into a 3D array\n",
    "        image_stack = np.stack(image_planes, axis=0)\n",
    "        \n",
    "        # Create a new image\n",
    "        def plane_gen():\n",
    "            \"\"\"generator will yield planes\"\"\"\n",
    "            for plane in image_stack:\n",
    "                yield plane\n",
    "                \n",
    "        img_obj = conn.createImageFromNumpySeq(\n",
    "                plane_gen(), image_name, sizeZ, sizeC, sizeT, description=description, \n",
    "                dataset=dataset_obj, sourceImageId=sourceImageId, channelList=channelList\n",
    "            )\n",
    "        \n",
    "        image_id = img_obj.getId().getValue()\n",
    "        image_name = img_obj.getName().getValue()\n",
    "        print(f\"Created new image: ID = {image_id}, Name = {image_name}\")\n",
    "\n",
    "        # set channel names\n",
    "        channel_labels = dict(enumerate(channel_names, start=1))\n",
    "        conn.setChannelNames('Image', [img_obj.getId()], \n",
    "                             channel_labels\n",
    "                            )\n",
    "        \n",
    "        # set pixel sizes\n",
    "        if pixel_size_um <= 0:\n",
    "            px_size_um = LengthI(1, UnitsLength.PIXEL) # non calibrated pixel sizes\n",
    "        else :\n",
    "            px_size_um = LengthI(pixel_size_um, UnitsLength.MICROMETER)\n",
    "        px_obj = img_obj.getPrimaryPixels()._obj\n",
    "        px_obj.setPhysicalSizeX(px_size_um)\n",
    "        px_obj.setPhysicalSizeY(px_size_um)\n",
    "        conn.getUpdateService().saveObject(px_obj)\n",
    "\n",
    "        # Re-load the image to avoid update conflicts\n",
    "        img_obj = conn.getObject(\"Image\", img_obj.getId())\n",
    "        \n",
    "        map_ann = MapAnnotationWrapper(conn)\n",
    "        map_ann.setNs(NSCLIENTMAPANNOTATION)\n",
    "        map_ann.setValue(key_value_pairs)\n",
    "        map_ann.save()\n",
    "        \n",
    "        # NB: only link a client map annotation to a single object\n",
    "        map_ann = img_obj.linkAnnotation(map_ann)\n",
    "\n",
    "    # Re-load image object to avoid conflicts\n",
    "    image_obj = conn.getObject(\"Image\", image_id)\n",
    "    \n",
    "    return image_obj"
   ]
  },
  {
   "cell_type": "code",
   "execution_count": null,
   "id": "692787f4-cdc8-47ac-ad62-dbec7b6b775a",
   "metadata": {},
   "outputs": [],
   "source": [
    "dataset_id = dataset_object.getId()\n",
    "dataset_id"
   ]
  },
  {
   "cell_type": "code",
   "execution_count": null,
   "id": "57d0d416-5f43-42e1-8aaf-a61e19860271",
   "metadata": {},
   "outputs": [],
   "source": [
    "image_obj = create_image(conn, filename, dataset_id, key_value_pairs, phase_series, channel_names=None,\n",
    "                         sizeT=int(n_phases), \n",
    "                         description=\"FD FLIM phase images\")"
   ]
  },
  {
   "cell_type": "code",
   "execution_count": null,
   "id": "86b4eb24-faea-48ba-834a-848661571bca",
   "metadata": {},
   "outputs": [],
   "source": []
  },
  {
   "cell_type": "code",
   "execution_count": null,
   "id": "77e8f89e-53e1-4313-96a0-c3e261e9afb2",
   "metadata": {},
   "outputs": [],
   "source": []
  },
  {
   "cell_type": "code",
   "execution_count": null,
   "id": "648871e0-9543-4161-ba89-827b1fa9a1bc",
   "metadata": {},
   "outputs": [],
   "source": []
  }
 ],
 "metadata": {
  "kernelspec": {
   "display_name": "Python 3 (ipykernel)",
   "language": "python",
   "name": "python3"
  },
  "language_info": {
   "codemirror_mode": {
    "name": "ipython",
    "version": 3
   },
   "file_extension": ".py",
   "mimetype": "text/x-python",
   "name": "python",
   "nbconvert_exporter": "python",
   "pygments_lexer": "ipython3",
   "version": "3.11.11"
  }
 },
 "nbformat": 4,
 "nbformat_minor": 5
}
