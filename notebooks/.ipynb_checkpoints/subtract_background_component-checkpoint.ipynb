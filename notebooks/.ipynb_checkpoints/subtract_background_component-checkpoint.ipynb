{
 "cells": [
  {
   "cell_type": "markdown",
   "id": "d253670e-c15e-4097-8625-e1f5ec72381f",
   "metadata": {},
   "source": [
    "# Subtract background component from FD-FLIM data\n",
    "*Matt Renshaw* \n",
    "*CALM STP*\n",
    "*The Francis Crick Institute*\n",
    "*2025-09-19*  \n",
    "\n",
    "**Background**: FLIM data contains information from a heterologous population of molecules. This could include donor (in a FRET or non-FRET state) and background. \n",
    "\n",
    "**Aim**: Using a measured background sample, subtract the background component from the phase image series to improve contrast of donor fluorescence."
   ]
  },
  {
   "cell_type": "markdown",
   "id": "8bf5d5e0-31a8-41a6-a859-eb98640de389",
   "metadata": {},
   "source": [
    "## Table of Contents\n",
    "1. [Setup](#setup)\n",
    "2. "
   ]
  },
  {
   "cell_type": "markdown",
   "id": "871c3436-3a10-4754-b729-66017bbe047e",
   "metadata": {},
   "source": [
    "## Setup <a id=\"setup\"></a>\n",
    "Import libraries\n",
    "\n",
    "Define username and omero host"
   ]
  },
  {
   "cell_type": "code",
   "execution_count": 101,
   "id": "bde4f9b5-2eeb-447b-9e60-9d64feda83d1",
   "metadata": {},
   "outputs": [],
   "source": [
    "import sys\n",
    "sys.path.append(\"..\")  # go up one level so Python can see `utils`\n",
    "\n",
    "from utils import Toggel_utils as toggel\n",
    "from utils import omero_utils as omero"
   ]
  },
  {
   "cell_type": "code",
   "execution_count": 102,
   "id": "ef08f786-ffe4-4be4-b959-603496d016fa",
   "metadata": {},
   "outputs": [],
   "source": [
    "import numpy as np\n",
    "import pandas as pd\n",
    "from pathlib import Path\n",
    "import tifffile\n",
    "import json\n",
    "import os\n",
    "from joblib import Parallel, delayed\n",
    "from scipy.optimize import curve_fit"
   ]
  },
  {
   "cell_type": "code",
   "execution_count": 103,
   "id": "e0b46db8-55a3-4cdc-a565-8f138bb8a76a",
   "metadata": {},
   "outputs": [],
   "source": [
    "username = \"rensham\"\n",
    "#omero_host = \"omero-training.thecrick.org\" # optional: defaults to 'omero-prod.camp.thecrick.org'"
   ]
  },
  {
   "cell_type": "markdown",
   "id": "c6e6bb18-c3f1-4d05-8d1b-706a4ef9f64c",
   "metadata": {},
   "source": [
    "## Generate background phase images <a id=\"get-background\"></a>\n",
    "1. Connect to OMERO\n",
    "2. Get list of background image IDs\n",
    "3. Get planes for background images"
   ]
  },
  {
   "cell_type": "code",
   "execution_count": 105,
   "id": "6eb7be27-7c2f-4286-b509-a881fdefefd3",
   "metadata": {},
   "outputs": [
    {
     "name": "stdout",
     "output_type": "stream",
     "text": [
      "Connected to OMERO server: omero-prod.camp.thecrick.org\n"
     ]
    }
   ],
   "source": [
    "# connect to OMERO\n",
    "conn = omero.connect(username)"
   ]
  },
  {
   "cell_type": "code",
   "execution_count": 94,
   "id": "fc5af45e-9d72-4fc9-91cd-f9e4edaad97a",
   "metadata": {},
   "outputs": [],
   "source": [
    "#dataset_id = 11462\t\n",
    "dataset_id = 11468"
   ]
  },
  {
   "cell_type": "code",
   "execution_count": 106,
   "id": "1e61e199-c108-4924-9692-201b01771191",
   "metadata": {},
   "outputs": [],
   "source": [
    "project_id = 4651"
   ]
  },
  {
   "cell_type": "code",
   "execution_count": 109,
   "id": "48e7ee46-caa4-4804-9071-961e9915bac1",
   "metadata": {},
   "outputs": [
    {
     "data": {
      "text/plain": [
       "[351591,\n",
       " 351597,\n",
       " 351598,\n",
       " 351599,\n",
       " 351590,\n",
       " 351601,\n",
       " 351593,\n",
       " 351544,\n",
       " 351560,\n",
       " 351311,\n",
       " 351312,\n",
       " 351313,\n",
       " 351314,\n",
       " 351315,\n",
       " 351316,\n",
       " 351317,\n",
       " 351318,\n",
       " 351319,\n",
       " 351320,\n",
       " 351321,\n",
       " 351322,\n",
       " 351323,\n",
       " 351324,\n",
       " 351325,\n",
       " 351326,\n",
       " 351327,\n",
       " 351328,\n",
       " 351329,\n",
       " 351586,\n",
       " 351587,\n",
       " 351588,\n",
       " 351589,\n",
       " 351330,\n",
       " 351331,\n",
       " 351332,\n",
       " 351333,\n",
       " 351334,\n",
       " 351595,\n",
       " 351596,\n",
       " 351335,\n",
       " 351336,\n",
       " 351337,\n",
       " 351600,\n",
       " 351338,\n",
       " 351339,\n",
       " 351340,\n",
       " 351341,\n",
       " 351342,\n",
       " 351343,\n",
       " 351344,\n",
       " 351345,\n",
       " 351346,\n",
       " 351592,\n",
       " 351594]"
      ]
     },
     "execution_count": 109,
     "metadata": {},
     "output_type": "execute_result"
    }
   ],
   "source": [
    "list_of_sample_ids = omero.find_image_ids_in_project_kv_dict (conn, project_id, {\"Biological Entity\":\"3T3 cells\", \"Treatment\":\"untreated\"})\n",
    "list_of_sample_ids"
   ]
  },
  {
   "cell_type": "code",
   "execution_count": 95,
   "id": "8686c6e9-93d1-41e7-9a63-7ddfbbfe13a0",
   "metadata": {},
   "outputs": [
    {
     "data": {
      "text/plain": [
       "[346689,\n",
       " 346690,\n",
       " 346691,\n",
       " 346692,\n",
       " 346693,\n",
       " 346694,\n",
       " 346695,\n",
       " 346696,\n",
       " 346697,\n",
       " 346698,\n",
       " 346699,\n",
       " 346700,\n",
       " 346701,\n",
       " 346702,\n",
       " 346703,\n",
       " 346704,\n",
       " 346705,\n",
       " 346706,\n",
       " 346707,\n",
       " 346708,\n",
       " 346709,\n",
       " 346710,\n",
       " 346711,\n",
       " 346712,\n",
       " 346713,\n",
       " 346714,\n",
       " 346715,\n",
       " 346716]"
      ]
     },
     "execution_count": 95,
     "metadata": {},
     "output_type": "execute_result"
    }
   ],
   "source": [
    "list_of_sample_ids = omero.find_image_ids_in_dataset_kv_dict (conn, dataset_id, {\"Biological Entity\":\"Purified protein\"})\n",
    "list_of_sample_ids"
   ]
  },
  {
   "cell_type": "code",
   "execution_count": 96,
   "id": "7c6e29ad-a679-4b87-8db2-2c202bbadb69",
   "metadata": {},
   "outputs": [
    {
     "data": {
      "text/plain": [
       "[346733, 346717, 346765, 346749]"
      ]
     },
     "execution_count": 96,
     "metadata": {},
     "output_type": "execute_result"
    }
   ],
   "source": [
    "list_of_bkg_ids = omero.find_image_ids_in_dataset_kv_dict (conn, dataset_id, {\"Biological Entity\":\"Buffer\"})\n",
    "list_of_bkg_ids"
   ]
  },
  {
   "cell_type": "code",
   "execution_count": 110,
   "id": "a8efbd2d-3f8f-4d5f-a964-c2620a0dc4c3",
   "metadata": {},
   "outputs": [
    {
     "data": {
      "text/plain": [
       "[351616,\n",
       " 351617,\n",
       " 351618,\n",
       " 351619,\n",
       " 351602,\n",
       " 351603,\n",
       " 351604,\n",
       " 351605,\n",
       " 351606,\n",
       " 351607,\n",
       " 351608,\n",
       " 351609,\n",
       " 351610,\n",
       " 351611,\n",
       " 351612,\n",
       " 351613,\n",
       " 351614,\n",
       " 351615]"
      ]
     },
     "execution_count": 110,
     "metadata": {},
     "output_type": "execute_result"
    }
   ],
   "source": [
    "list_of_bkg_ids = omero.find_image_ids_in_project_kv_dict (conn, project_id, {\"Biological Entity\":\"media\", \"Treatment\":\"untreated\"})\n",
    "list_of_bkg_ids"
   ]
  },
  {
   "cell_type": "code",
   "execution_count": null,
   "id": "8a18ccc8-e660-4a71-bd40-572fb0bf1159",
   "metadata": {},
   "outputs": [
    {
     "name": "stdout",
     "output_type": "stream",
     "text": [
      "Image:351616  Name:\"D2-Site_5_T000_Z000_20x_GActin_biosensor_500ms_media_2--ID351231\" (owner=rensham)\n",
      "Image:351231  Name:\"2025-09-02_13-54-29-sample-coumarin_ref_4-3ns\" (owner=rensham)\n",
      "Image:351617  Name:\"D2-Site_6_T000_Z000_20x_GActin_biosensor_500ms_media_2--ID351308\" (owner=rensham)\n",
      "Image:351308  Name:\"2025-09-02_13-54-37-sample-coumarin_ref_4-3ns\" (owner=rensham)\n",
      "Image:351618  Name:\"D2-Site_7_T000_Z000_20x_GActin_biosensor_500ms_media_2--ID351256\" (owner=rensham)\n",
      "Image:351256  Name:\"2025-09-02_13-54-45-sample-coumarin_ref_4-3ns\" (owner=rensham)\n",
      "Image:351619  Name:\"D2-Site_8_T000_Z000_20x_GActin_biosensor_500ms_media_2--ID351182\" (owner=rensham)\n",
      "Image:351182  Name:\"2025-09-02_13-54-53-sample-coumarin_ref_4-3ns\" (owner=rensham)\n",
      "Image:351602  Name:\"D1-Site_0_T000_Z000_20x_GActin_biosensor_500ms_media_1--ID351239\" (owner=rensham)\n",
      "Image:351239  Name:\"2025-09-02_13-21-43-sample-coumarin_ref_4-3ns\" (owner=rensham)\n",
      "Image:351603  Name:\"D1-Site_1_T000_Z000_20x_GActin_biosensor_500ms_media_1--ID351307\" (owner=rensham)\n",
      "Image:351307  Name:\"2025-09-02_13-21-51-sample-coumarin_ref_4-3ns\" (owner=rensham)\n",
      "Image:351604  Name:\"D1-Site_2_T000_Z000_20x_GActin_biosensor_500ms_media_1--ID351281\" (owner=rensham)\n",
      "Image:351281  Name:\"2025-09-02_13-21-59-sample-coumarin_ref_4-3ns\" (owner=rensham)\n",
      "Image:351605  Name:\"D1-Site_3_T000_Z000_20x_GActin_biosensor_500ms_media_1--ID351240\" (owner=rensham)\n",
      "Image:351240  Name:\"2025-09-02_13-22-06-sample-coumarin_ref_4-3ns\" (owner=rensham)\n"
     ]
    }
   ],
   "source": [
    "background_planes_array = []\n",
    "for image_id in list_of_bkg_ids:\n",
    "    image_object = omero.get_image (conn, image_id)\n",
    "    md = omero.get_key_value_metadata (image_object)\n",
    "    phase_image_id = md[\"phase_series_image_id\"]\n",
    "    n_phases = md[\"Toggel-Number of Phases\"]\n",
    "    \n",
    "    phase_object = omero.get_image (conn, phase_image_id)\n",
    "    \n",
    "    # get phase series\n",
    "    pixels = phase_object.getPrimaryPixels()\n",
    "    zct_list = [[0, 0, phase] for phase in range(int(n_phases))] # define zct_list\n",
    "    phase_series = omero.get_planes(zct_list, pixels)\n",
    "    background_planes_array.append(phase_series)\n",
    "\n",
    "background_series_stack = np.stack(background_planes_array, axis=0)"
   ]
  },
  {
   "cell_type": "code",
   "execution_count": 98,
   "id": "c13442c0-4e96-45fd-91e1-5ef825d56d86",
   "metadata": {},
   "outputs": [],
   "source": [
    "n_areas = len(list_of_bkg_ids)\n",
    "median_background = []\n",
    "for phase in range(int(n_phases)):\n",
    "    planes = background_series_stack[:,phase]\n",
    "    median_proj = np.nanmedian(planes, axis=0)\n",
    "    median_background.append(median_proj)\n",
    "\n",
    "median_background_stack = np.stack(median_background, axis=0)"
   ]
  },
  {
   "cell_type": "code",
   "execution_count": 99,
   "id": "c52e2440-ceff-4693-80df-9558589c363f",
   "metadata": {},
   "outputs": [],
   "source": [
    "# Define a sine wave function to fit the data\n",
    "def sine_wave(x, amplitude, phase_shift, offset):\n",
    "    phase_shift = (phase_shift + 180) % 360\n",
    "    return amplitude * np.sin(x + phase_shift) + offset\n",
    "\n",
    "current_ref_id = None"
   ]
  },
  {
   "cell_type": "code",
   "execution_count": 100,
   "id": "486d1942-102b-4502-b797-bece990af3ae",
   "metadata": {},
   "outputs": [
    {
     "name": "stdout",
     "output_type": "stream",
     "text": [
      "Image:346689  Name:\"B2-Site_0_T000_Z000_20x_GActin_biosensor_purified_proteins_plusActing_500ms_2--ID346169\" (owner=rensham)\n",
      "Image:346169  Name:\"2025-09-05_16-05-22-sample-20x_purified_proteins\" (owner=rensham)\n",
      "Calibrating reference image: ID---346044\n"
     ]
    },
    {
     "name": "stderr",
     "output_type": "stream",
     "text": [
      "[Parallel(n_jobs=-1)]: Using backend LokyBackend with 8 concurrent workers.\n",
      "[Parallel(n_jobs=-1)]: Done   2 tasks      | elapsed:    1.6s\n",
      "[Parallel(n_jobs=-1)]: Done  75 tasks      | elapsed:    1.8s\n",
      "[Parallel(n_jobs=-1)]: Done 3336 tasks      | elapsed:    2.3s\n",
      "[Parallel(n_jobs=-1)]: Done 61448 tasks      | elapsed:    7.8s\n",
      "[Parallel(n_jobs=-1)]: Done 144392 tasks      | elapsed:   14.4s\n",
      "[Parallel(n_jobs=-1)]: Done 245768 tasks      | elapsed:   24.0s\n",
      "[Parallel(n_jobs=-1)]: Done 258048 out of 258048 | elapsed:   25.1s finished\n",
      "[Parallel(n_jobs=-1)]: Using backend LokyBackend with 8 concurrent workers.\n",
      "[Parallel(n_jobs=-1)]: Done   2 tasks      | elapsed:    0.0s\n",
      "[Parallel(n_jobs=-1)]: Done 176 tasks      | elapsed:    0.3s\n",
      "[Parallel(n_jobs=-1)]: Done 8688 tasks      | elapsed:    1.3s\n",
      "[Parallel(n_jobs=-1)]: Done 40944 tasks      | elapsed:    4.6s\n",
      "[Parallel(n_jobs=-1)]: Done 82416 tasks      | elapsed:    8.7s\n",
      "[Parallel(n_jobs=-1)]: Done 133104 tasks      | elapsed:   13.3s\n",
      "[Parallel(n_jobs=-1)]: Done 193008 tasks      | elapsed:   18.7s\n",
      "[Parallel(n_jobs=-1)]: Done 258048 out of 258048 | elapsed:   24.6s finished\n"
     ]
    },
    {
     "name": "stdout",
     "output_type": "stream",
     "text": [
      "Created new image: ID = 350412, Name = BKG_Subtract_B2-Site_0_T000_Z000_20x_GActin_biosensor_purified_proteins_plusActing_500ms_2--ID346169\n",
      "Image:346690  Name:\"B2-Site_1_T000_Z000_20x_GActin_biosensor_purified_proteins_plusActing_500ms_2--ID346079\" (owner=rensham)\n",
      "Image:346079  Name:\"2025-09-05_16-05-30-sample-20x_purified_proteins\" (owner=rensham)\n"
     ]
    },
    {
     "name": "stderr",
     "output_type": "stream",
     "text": [
      "[Parallel(n_jobs=-1)]: Using backend LokyBackend with 8 concurrent workers.\n",
      "[Parallel(n_jobs=-1)]: Done   2 tasks      | elapsed:    0.0s\n",
      "[Parallel(n_jobs=-1)]: Done 176 tasks      | elapsed:    0.3s\n",
      "[Parallel(n_jobs=-1)]: Done 8688 tasks      | elapsed:    1.6s\n",
      "[Parallel(n_jobs=-1)]: Done 40944 tasks      | elapsed:    4.2s\n",
      "[Parallel(n_jobs=-1)]: Done 82416 tasks      | elapsed:    7.9s\n",
      "[Parallel(n_jobs=-1)]: Done 133104 tasks      | elapsed:   13.3s\n",
      "[Parallel(n_jobs=-1)]: Done 193008 tasks      | elapsed:   19.1s\n",
      "[Parallel(n_jobs=-1)]: Done 258048 out of 258048 | elapsed:   25.3s finished\n"
     ]
    },
    {
     "name": "stdout",
     "output_type": "stream",
     "text": [
      "Created new image: ID = 350413, Name = BKG_Subtract_B2-Site_1_T000_Z000_20x_GActin_biosensor_purified_proteins_plusActing_500ms_2--ID346079\n",
      "Image:346691  Name:\"B2-Site_2_T000_Z000_20x_GActin_biosensor_purified_proteins_plusActing_500ms_2--ID346174\" (owner=rensham)\n",
      "Image:346174  Name:\"2025-09-05_16-05-38-sample-20x_purified_proteins\" (owner=rensham)\n"
     ]
    },
    {
     "name": "stderr",
     "output_type": "stream",
     "text": [
      "[Parallel(n_jobs=-1)]: Using backend LokyBackend with 8 concurrent workers.\n",
      "[Parallel(n_jobs=-1)]: Done   2 tasks      | elapsed:    0.0s\n",
      "[Parallel(n_jobs=-1)]: Done 176 tasks      | elapsed:    0.3s\n",
      "[Parallel(n_jobs=-1)]: Done 8688 tasks      | elapsed:    1.7s\n",
      "[Parallel(n_jobs=-1)]: Done 40944 tasks      | elapsed:    5.0s\n",
      "[Parallel(n_jobs=-1)]: Done 82416 tasks      | elapsed:    9.8s\n",
      "[Parallel(n_jobs=-1)]: Done 133104 tasks      | elapsed:   16.2s\n",
      "[Parallel(n_jobs=-1)]: Done 193008 tasks      | elapsed:   25.0s\n",
      "[Parallel(n_jobs=-1)]: Done 258048 out of 258048 | elapsed:   36.8s finished\n"
     ]
    },
    {
     "name": "stdout",
     "output_type": "stream",
     "text": [
      "Created new image: ID = 350414, Name = BKG_Subtract_B2-Site_2_T000_Z000_20x_GActin_biosensor_purified_proteins_plusActing_500ms_2--ID346174\n",
      "Image:346692  Name:\"B2-Site_3_T000_Z000_20x_GActin_biosensor_purified_proteins_plusActing_500ms_2--ID346078\" (owner=rensham)\n",
      "Image:346078  Name:\"2025-09-05_16-05-46-sample-20x_purified_proteins\" (owner=rensham)\n"
     ]
    },
    {
     "name": "stderr",
     "output_type": "stream",
     "text": [
      "[Parallel(n_jobs=-1)]: Using backend LokyBackend with 8 concurrent workers.\n",
      "[Parallel(n_jobs=-1)]: Done   2 tasks      | elapsed:    0.0s\n",
      "[Parallel(n_jobs=-1)]: Done 176 tasks      | elapsed:    0.4s\n",
      "[Parallel(n_jobs=-1)]: Done 6384 tasks      | elapsed:    1.6s\n",
      "[Parallel(n_jobs=-1)]: Done 22512 tasks      | elapsed:    4.1s\n",
      "[Parallel(n_jobs=-1)]: Done 43248 tasks      | elapsed:    8.0s\n",
      "[Parallel(n_jobs=-1)]: Done 68592 tasks      | elapsed:   12.2s\n",
      "[Parallel(n_jobs=-1)]: Done 98544 tasks      | elapsed:   18.2s\n",
      "[Parallel(n_jobs=-1)]: Done 133104 tasks      | elapsed:   26.3s\n",
      "[Parallel(n_jobs=-1)]: Done 172272 tasks      | elapsed:   33.6s\n",
      "[Parallel(n_jobs=-1)]: Done 216048 tasks      | elapsed:   40.7s\n",
      "[Parallel(n_jobs=-1)]: Done 258048 out of 258048 | elapsed:   47.7s finished\n"
     ]
    },
    {
     "name": "stdout",
     "output_type": "stream",
     "text": [
      "Created new image: ID = 350415, Name = BKG_Subtract_B2-Site_3_T000_Z000_20x_GActin_biosensor_purified_proteins_plusActing_500ms_2--ID346078\n",
      "Image:346693  Name:\"B3-Site_0_T000_Z000_20x_GActin_biosensor_purified_proteins_plusActing_500ms_2--ID346067\" (owner=rensham)\n",
      "Image:346067  Name:\"2025-09-05_16-04-50-sample-20x_purified_proteins\" (owner=rensham)\n"
     ]
    },
    {
     "name": "stderr",
     "output_type": "stream",
     "text": [
      "[Parallel(n_jobs=-1)]: Using backend LokyBackend with 8 concurrent workers.\n",
      "[Parallel(n_jobs=-1)]: Done   2 tasks      | elapsed:    0.0s\n",
      "[Parallel(n_jobs=-1)]: Done 176 tasks      | elapsed:    0.3s\n",
      "[Parallel(n_jobs=-1)]: Done 8688 tasks      | elapsed:    1.3s\n",
      "[Parallel(n_jobs=-1)]: Done 40944 tasks      | elapsed:    6.2s\n",
      "[Parallel(n_jobs=-1)]: Done 82416 tasks      | elapsed:   13.9s\n",
      "[Parallel(n_jobs=-1)]: Done 133104 tasks      | elapsed:   21.8s\n",
      "[Parallel(n_jobs=-1)]: Done 193008 tasks      | elapsed:   32.5s\n",
      "[Parallel(n_jobs=-1)]: Done 258048 out of 258048 | elapsed:   44.0s finished\n"
     ]
    },
    {
     "name": "stdout",
     "output_type": "stream",
     "text": [
      "Created new image: ID = 350416, Name = BKG_Subtract_B3-Site_0_T000_Z000_20x_GActin_biosensor_purified_proteins_plusActing_500ms_2--ID346067\n",
      "Image:346694  Name:\"B3-Site_1_T000_Z000_20x_GActin_biosensor_purified_proteins_plusActing_500ms_2--ID346117\" (owner=rensham)\n",
      "Image:346117  Name:\"2025-09-05_16-04-58-sample-20x_purified_proteins\" (owner=rensham)\n"
     ]
    },
    {
     "name": "stderr",
     "output_type": "stream",
     "text": [
      "[Parallel(n_jobs=-1)]: Using backend LokyBackend with 8 concurrent workers.\n",
      "[Parallel(n_jobs=-1)]: Done   2 tasks      | elapsed:    0.0s\n",
      "[Parallel(n_jobs=-1)]: Done 176 tasks      | elapsed:    0.4s\n",
      "[Parallel(n_jobs=-1)]: Done 8688 tasks      | elapsed:    1.3s\n",
      "[Parallel(n_jobs=-1)]: Done 40944 tasks      | elapsed:    5.6s\n",
      "[Parallel(n_jobs=-1)]: Done 82416 tasks      | elapsed:   13.0s\n",
      "[Parallel(n_jobs=-1)]: Done 133104 tasks      | elapsed:   21.2s\n",
      "[Parallel(n_jobs=-1)]: Done 193008 tasks      | elapsed:   31.7s\n",
      "[Parallel(n_jobs=-1)]: Done 258048 out of 258048 | elapsed:   41.1s finished\n"
     ]
    },
    {
     "name": "stdout",
     "output_type": "stream",
     "text": [
      "Created new image: ID = 350417, Name = BKG_Subtract_B3-Site_1_T000_Z000_20x_GActin_biosensor_purified_proteins_plusActing_500ms_2--ID346117\n",
      "Image:346695  Name:\"B3-Site_2_T000_Z000_20x_GActin_biosensor_purified_proteins_plusActing_500ms_2--ID346120\" (owner=rensham)\n",
      "Image:346120  Name:\"2025-09-05_16-05-05-sample-20x_purified_proteins\" (owner=rensham)\n"
     ]
    },
    {
     "name": "stderr",
     "output_type": "stream",
     "text": [
      "[Parallel(n_jobs=-1)]: Using backend LokyBackend with 8 concurrent workers.\n",
      "[Parallel(n_jobs=-1)]: Done   2 tasks      | elapsed:    0.0s\n",
      "[Parallel(n_jobs=-1)]: Done 176 tasks      | elapsed:    0.2s\n",
      "[Parallel(n_jobs=-1)]: Done 8688 tasks      | elapsed:    1.3s\n",
      "[Parallel(n_jobs=-1)]: Done 40944 tasks      | elapsed:    5.3s\n",
      "[Parallel(n_jobs=-1)]: Done 82416 tasks      | elapsed:   11.3s\n",
      "[Parallel(n_jobs=-1)]: Done 133104 tasks      | elapsed:   18.6s\n",
      "[Parallel(n_jobs=-1)]: Done 193008 tasks      | elapsed:   27.1s\n",
      "[Parallel(n_jobs=-1)]: Done 258048 out of 258048 | elapsed:   36.6s finished\n"
     ]
    },
    {
     "name": "stdout",
     "output_type": "stream",
     "text": [
      "Created new image: ID = 350418, Name = BKG_Subtract_B3-Site_2_T000_Z000_20x_GActin_biosensor_purified_proteins_plusActing_500ms_2--ID346120\n",
      "Image:346696  Name:\"B3-Site_3_T000_Z000_20x_GActin_biosensor_purified_proteins_plusActing_500ms_2--ID346160\" (owner=rensham)\n",
      "Image:346160  Name:\"2025-09-05_16-05-13-sample-20x_purified_proteins\" (owner=rensham)\n"
     ]
    },
    {
     "name": "stderr",
     "output_type": "stream",
     "text": [
      "[Parallel(n_jobs=-1)]: Using backend LokyBackend with 8 concurrent workers.\n",
      "[Parallel(n_jobs=-1)]: Done   2 tasks      | elapsed:    0.0s\n",
      "[Parallel(n_jobs=-1)]: Done 176 tasks      | elapsed:    0.3s\n",
      "[Parallel(n_jobs=-1)]: Done 8688 tasks      | elapsed:    1.3s\n",
      "[Parallel(n_jobs=-1)]: Done 40944 tasks      | elapsed:    5.8s\n",
      "[Parallel(n_jobs=-1)]: Done 82416 tasks      | elapsed:   11.8s\n",
      "[Parallel(n_jobs=-1)]: Done 133104 tasks      | elapsed:   18.7s\n",
      "[Parallel(n_jobs=-1)]: Done 193008 tasks      | elapsed:   28.6s\n",
      "[Parallel(n_jobs=-1)]: Done 258048 out of 258048 | elapsed:   39.4s finished\n"
     ]
    },
    {
     "name": "stdout",
     "output_type": "stream",
     "text": [
      "Created new image: ID = 350419, Name = BKG_Subtract_B3-Site_3_T000_Z000_20x_GActin_biosensor_purified_proteins_plusActing_500ms_2--ID346160\n",
      "Image:346697  Name:\"B4-Site_0_T000_Z000_20x_GActin_biosensor_purified_proteins_plusActing_500ms_2--ID346148\" (owner=rensham)\n",
      "Image:346148  Name:\"2025-09-05_16-04-17-sample-20x_purified_proteins\" (owner=rensham)\n"
     ]
    },
    {
     "name": "stderr",
     "output_type": "stream",
     "text": [
      "[Parallel(n_jobs=-1)]: Using backend LokyBackend with 8 concurrent workers.\n",
      "[Parallel(n_jobs=-1)]: Done   2 tasks      | elapsed:    0.0s\n",
      "[Parallel(n_jobs=-1)]: Done 176 tasks      | elapsed:    0.3s\n",
      "[Parallel(n_jobs=-1)]: Done 8688 tasks      | elapsed:    1.4s\n",
      "[Parallel(n_jobs=-1)]: Done 40944 tasks      | elapsed:    5.9s\n",
      "[Parallel(n_jobs=-1)]: Done 82416 tasks      | elapsed:   12.8s\n",
      "[Parallel(n_jobs=-1)]: Done 133104 tasks      | elapsed:   21.2s\n",
      "[Parallel(n_jobs=-1)]: Done 193008 tasks      | elapsed:   30.7s\n",
      "[Parallel(n_jobs=-1)]: Done 258048 out of 258048 | elapsed:   40.9s finished\n"
     ]
    },
    {
     "name": "stdout",
     "output_type": "stream",
     "text": [
      "Created new image: ID = 350420, Name = BKG_Subtract_B4-Site_0_T000_Z000_20x_GActin_biosensor_purified_proteins_plusActing_500ms_2--ID346148\n",
      "Image:346698  Name:\"B4-Site_1_T000_Z000_20x_GActin_biosensor_purified_proteins_plusActing_500ms_2--ID346115\" (owner=rensham)\n",
      "Image:346115  Name:\"2025-09-05_16-04-25-sample-20x_purified_proteins\" (owner=rensham)\n"
     ]
    },
    {
     "name": "stderr",
     "output_type": "stream",
     "text": [
      "[Parallel(n_jobs=-1)]: Using backend LokyBackend with 8 concurrent workers.\n",
      "[Parallel(n_jobs=-1)]: Done   2 tasks      | elapsed:    0.0s\n",
      "[Parallel(n_jobs=-1)]: Done 176 tasks      | elapsed:    0.3s\n",
      "[Parallel(n_jobs=-1)]: Done 8688 tasks      | elapsed:    1.4s\n",
      "[Parallel(n_jobs=-1)]: Done 40944 tasks      | elapsed:    5.0s\n",
      "[Parallel(n_jobs=-1)]: Done 82416 tasks      | elapsed:   11.5s\n",
      "[Parallel(n_jobs=-1)]: Done 133104 tasks      | elapsed:   19.4s\n",
      "[Parallel(n_jobs=-1)]: Done 193008 tasks      | elapsed:   28.5s\n",
      "[Parallel(n_jobs=-1)]: Done 258048 out of 258048 | elapsed:   38.2s finished\n"
     ]
    },
    {
     "name": "stdout",
     "output_type": "stream",
     "text": [
      "Created new image: ID = 350421, Name = BKG_Subtract_B4-Site_1_T000_Z000_20x_GActin_biosensor_purified_proteins_plusActing_500ms_2--ID346115\n",
      "Image:346699  Name:\"B4-Site_2_T000_Z000_20x_GActin_biosensor_purified_proteins_plusActing_500ms_2--ID346053\" (owner=rensham)\n",
      "Image:346053  Name:\"2025-09-05_16-04-33-sample-20x_purified_proteins\" (owner=rensham)\n"
     ]
    },
    {
     "name": "stderr",
     "output_type": "stream",
     "text": [
      "[Parallel(n_jobs=-1)]: Using backend LokyBackend with 8 concurrent workers.\n",
      "[Parallel(n_jobs=-1)]: Done   2 tasks      | elapsed:    0.0s\n",
      "[Parallel(n_jobs=-1)]: Done 176 tasks      | elapsed:    0.3s\n",
      "[Parallel(n_jobs=-1)]: Done 8688 tasks      | elapsed:    1.5s\n",
      "[Parallel(n_jobs=-1)]: Done 40944 tasks      | elapsed:    6.1s\n",
      "[Parallel(n_jobs=-1)]: Done 82416 tasks      | elapsed:   11.8s\n",
      "[Parallel(n_jobs=-1)]: Done 133104 tasks      | elapsed:   20.3s\n",
      "[Parallel(n_jobs=-1)]: Done 193008 tasks      | elapsed:   28.8s\n",
      "[Parallel(n_jobs=-1)]: Done 258048 out of 258048 | elapsed:   38.2s finished\n"
     ]
    },
    {
     "name": "stdout",
     "output_type": "stream",
     "text": [
      "Created new image: ID = 350422, Name = BKG_Subtract_B4-Site_2_T000_Z000_20x_GActin_biosensor_purified_proteins_plusActing_500ms_2--ID346053\n",
      "Image:346700  Name:\"B4-Site_3_T000_Z000_20x_GActin_biosensor_purified_proteins_plusActing_500ms_2--ID346100\" (owner=rensham)\n",
      "Image:346100  Name:\"2025-09-05_16-04-41-sample-20x_purified_proteins\" (owner=rensham)\n"
     ]
    },
    {
     "name": "stderr",
     "output_type": "stream",
     "text": [
      "[Parallel(n_jobs=-1)]: Using backend LokyBackend with 8 concurrent workers.\n",
      "[Parallel(n_jobs=-1)]: Done   2 tasks      | elapsed:    0.0s\n",
      "[Parallel(n_jobs=-1)]: Done 176 tasks      | elapsed:    0.3s\n",
      "[Parallel(n_jobs=-1)]: Done 8688 tasks      | elapsed:    1.3s\n",
      "[Parallel(n_jobs=-1)]: Done 40944 tasks      | elapsed:    6.2s\n",
      "[Parallel(n_jobs=-1)]: Done 82416 tasks      | elapsed:   12.4s\n",
      "[Parallel(n_jobs=-1)]: Done 133104 tasks      | elapsed:   20.6s\n",
      "[Parallel(n_jobs=-1)]: Done 193008 tasks      | elapsed:   29.3s\n",
      "[Parallel(n_jobs=-1)]: Done 258048 out of 258048 | elapsed:   39.3s finished\n"
     ]
    },
    {
     "name": "stdout",
     "output_type": "stream",
     "text": [
      "Created new image: ID = 350423, Name = BKG_Subtract_B4-Site_3_T000_Z000_20x_GActin_biosensor_purified_proteins_plusActing_500ms_2--ID346100\n",
      "Image:346701  Name:\"B5-Site_0_T000_Z000_20x_GActin_biosensor_purified_proteins_plusActing_500ms_2--ID346055\" (owner=rensham)\n",
      "Image:346055  Name:\"2025-09-05_16-03-45-sample-20x_purified_proteins\" (owner=rensham)\n"
     ]
    },
    {
     "name": "stderr",
     "output_type": "stream",
     "text": [
      "[Parallel(n_jobs=-1)]: Using backend LokyBackend with 8 concurrent workers.\n",
      "[Parallel(n_jobs=-1)]: Done   2 tasks      | elapsed:    0.0s\n",
      "[Parallel(n_jobs=-1)]: Done 176 tasks      | elapsed:    0.3s\n",
      "[Parallel(n_jobs=-1)]: Done 8688 tasks      | elapsed:    1.3s\n",
      "[Parallel(n_jobs=-1)]: Done 40944 tasks      | elapsed:    4.9s\n",
      "[Parallel(n_jobs=-1)]: Done 82416 tasks      | elapsed:   11.0s\n",
      "[Parallel(n_jobs=-1)]: Done 133104 tasks      | elapsed:   18.7s\n",
      "[Parallel(n_jobs=-1)]: Done 193008 tasks      | elapsed:   28.0s\n",
      "[Parallel(n_jobs=-1)]: Done 258048 out of 258048 | elapsed:   36.2s finished\n"
     ]
    },
    {
     "name": "stdout",
     "output_type": "stream",
     "text": [
      "Created new image: ID = 350424, Name = BKG_Subtract_B5-Site_0_T000_Z000_20x_GActin_biosensor_purified_proteins_plusActing_500ms_2--ID346055\n",
      "Image:346702  Name:\"B5-Site_1_T000_Z000_20x_GActin_biosensor_purified_proteins_plusActing_500ms_2--ID346108\" (owner=rensham)\n",
      "Image:346108  Name:\"2025-09-05_16-03-53-sample-20x_purified_proteins\" (owner=rensham)\n"
     ]
    },
    {
     "name": "stderr",
     "output_type": "stream",
     "text": [
      "[Parallel(n_jobs=-1)]: Using backend LokyBackend with 8 concurrent workers.\n",
      "[Parallel(n_jobs=-1)]: Done   2 tasks      | elapsed:    0.0s\n",
      "[Parallel(n_jobs=-1)]: Done 176 tasks      | elapsed:    0.3s\n",
      "[Parallel(n_jobs=-1)]: Done 8688 tasks      | elapsed:    1.6s\n",
      "[Parallel(n_jobs=-1)]: Done 40944 tasks      | elapsed:    5.1s\n",
      "[Parallel(n_jobs=-1)]: Done 82416 tasks      | elapsed:   11.2s\n",
      "[Parallel(n_jobs=-1)]: Done 133104 tasks      | elapsed:   18.4s\n",
      "[Parallel(n_jobs=-1)]: Done 193008 tasks      | elapsed:   26.4s\n",
      "[Parallel(n_jobs=-1)]: Done 258048 out of 258048 | elapsed:   35.5s finished\n"
     ]
    },
    {
     "name": "stdout",
     "output_type": "stream",
     "text": [
      "Created new image: ID = 350425, Name = BKG_Subtract_B5-Site_1_T000_Z000_20x_GActin_biosensor_purified_proteins_plusActing_500ms_2--ID346108\n",
      "Image:346703  Name:\"B5-Site_2_T000_Z000_20x_GActin_biosensor_purified_proteins_plusActing_500ms_2--ID346085\" (owner=rensham)\n",
      "Image:346085  Name:\"2025-09-05_16-04-01-sample-20x_purified_proteins\" (owner=rensham)\n"
     ]
    },
    {
     "name": "stderr",
     "output_type": "stream",
     "text": [
      "[Parallel(n_jobs=-1)]: Using backend LokyBackend with 8 concurrent workers.\n",
      "[Parallel(n_jobs=-1)]: Done   2 tasks      | elapsed:    0.0s\n",
      "[Parallel(n_jobs=-1)]: Done 176 tasks      | elapsed:    0.3s\n",
      "[Parallel(n_jobs=-1)]: Done 8688 tasks      | elapsed:    1.4s\n",
      "[Parallel(n_jobs=-1)]: Done 40944 tasks      | elapsed:    4.9s\n",
      "[Parallel(n_jobs=-1)]: Done 82416 tasks      | elapsed:   11.7s\n",
      "[Parallel(n_jobs=-1)]: Done 133104 tasks      | elapsed:   17.9s\n",
      "[Parallel(n_jobs=-1)]: Done 193008 tasks      | elapsed:   26.5s\n",
      "[Parallel(n_jobs=-1)]: Done 258048 out of 258048 | elapsed:   35.3s finished\n"
     ]
    },
    {
     "name": "stdout",
     "output_type": "stream",
     "text": [
      "Created new image: ID = 350426, Name = BKG_Subtract_B5-Site_2_T000_Z000_20x_GActin_biosensor_purified_proteins_plusActing_500ms_2--ID346085\n",
      "Image:346704  Name:\"B5-Site_3_T000_Z000_20x_GActin_biosensor_purified_proteins_plusActing_500ms_2--ID346046\" (owner=rensham)\n",
      "Image:346046  Name:\"2025-09-05_16-04-09-sample-20x_purified_proteins\" (owner=rensham)\n"
     ]
    },
    {
     "name": "stderr",
     "output_type": "stream",
     "text": [
      "[Parallel(n_jobs=-1)]: Using backend LokyBackend with 8 concurrent workers.\n",
      "[Parallel(n_jobs=-1)]: Done   2 tasks      | elapsed:    0.0s\n",
      "[Parallel(n_jobs=-1)]: Done 176 tasks      | elapsed:    0.2s\n",
      "[Parallel(n_jobs=-1)]: Done 8688 tasks      | elapsed:    1.2s\n",
      "[Parallel(n_jobs=-1)]: Done 40944 tasks      | elapsed:    5.3s\n",
      "[Parallel(n_jobs=-1)]: Done 82416 tasks      | elapsed:   11.1s\n",
      "[Parallel(n_jobs=-1)]: Done 133104 tasks      | elapsed:   18.1s\n",
      "[Parallel(n_jobs=-1)]: Done 193008 tasks      | elapsed:   26.6s\n",
      "[Parallel(n_jobs=-1)]: Done 258048 out of 258048 | elapsed:   35.9s finished\n"
     ]
    },
    {
     "name": "stdout",
     "output_type": "stream",
     "text": [
      "Created new image: ID = 350427, Name = BKG_Subtract_B5-Site_3_T000_Z000_20x_GActin_biosensor_purified_proteins_plusActing_500ms_2--ID346046\n",
      "Image:346705  Name:\"C2-Site_0_T000_Z000_20x_GActin_biosensor_purified_proteins_plusActing_500ms_2--ID346107\" (owner=rensham)\n",
      "Image:346107  Name:\"2025-09-05_16-05-55-sample-20x_purified_proteins\" (owner=rensham)\n"
     ]
    },
    {
     "name": "stderr",
     "output_type": "stream",
     "text": [
      "[Parallel(n_jobs=-1)]: Using backend LokyBackend with 8 concurrent workers.\n",
      "[Parallel(n_jobs=-1)]: Done   2 tasks      | elapsed:    0.0s\n",
      "[Parallel(n_jobs=-1)]: Done 176 tasks      | elapsed:    0.3s\n",
      "[Parallel(n_jobs=-1)]: Done 8688 tasks      | elapsed:    1.3s\n",
      "[Parallel(n_jobs=-1)]: Done 40944 tasks      | elapsed:    5.0s\n",
      "[Parallel(n_jobs=-1)]: Done 82416 tasks      | elapsed:   11.7s\n",
      "[Parallel(n_jobs=-1)]: Done 133104 tasks      | elapsed:   18.5s\n",
      "[Parallel(n_jobs=-1)]: Done 193008 tasks      | elapsed:   27.7s\n",
      "[Parallel(n_jobs=-1)]: Done 258048 out of 258048 | elapsed:   36.8s finished\n"
     ]
    },
    {
     "name": "stdout",
     "output_type": "stream",
     "text": [
      "Created new image: ID = 350428, Name = BKG_Subtract_C2-Site_0_T000_Z000_20x_GActin_biosensor_purified_proteins_plusActing_500ms_2--ID346107\n",
      "Image:346706  Name:\"C2-Site_1_T000_Z000_20x_GActin_biosensor_purified_proteins_plusActing_500ms_2--ID346124\" (owner=rensham)\n",
      "Image:346124  Name:\"2025-09-05_16-06-03-sample-20x_purified_proteins\" (owner=rensham)\n"
     ]
    },
    {
     "name": "stderr",
     "output_type": "stream",
     "text": [
      "[Parallel(n_jobs=-1)]: Using backend LokyBackend with 8 concurrent workers.\n",
      "[Parallel(n_jobs=-1)]: Done   2 tasks      | elapsed:    0.0s\n",
      "[Parallel(n_jobs=-1)]: Done 176 tasks      | elapsed:    0.2s\n",
      "[Parallel(n_jobs=-1)]: Done 8688 tasks      | elapsed:    1.2s\n",
      "[Parallel(n_jobs=-1)]: Done 40944 tasks      | elapsed:    5.5s\n",
      "[Parallel(n_jobs=-1)]: Done 82416 tasks      | elapsed:   11.4s\n",
      "[Parallel(n_jobs=-1)]: Done 133104 tasks      | elapsed:   18.8s\n",
      "[Parallel(n_jobs=-1)]: Done 193008 tasks      | elapsed:   27.6s\n",
      "[Parallel(n_jobs=-1)]: Done 258048 out of 258048 | elapsed:   37.9s finished\n"
     ]
    },
    {
     "name": "stdout",
     "output_type": "stream",
     "text": [
      "Created new image: ID = 350429, Name = BKG_Subtract_C2-Site_1_T000_Z000_20x_GActin_biosensor_purified_proteins_plusActing_500ms_2--ID346124\n",
      "Image:346707  Name:\"C2-Site_2_T000_Z000_20x_GActin_biosensor_purified_proteins_plusActing_500ms_2--ID346068\" (owner=rensham)\n",
      "Image:346068  Name:\"2025-09-05_16-06-11-sample-20x_purified_proteins\" (owner=rensham)\n"
     ]
    },
    {
     "name": "stderr",
     "output_type": "stream",
     "text": [
      "[Parallel(n_jobs=-1)]: Using backend LokyBackend with 8 concurrent workers.\n",
      "[Parallel(n_jobs=-1)]: Done   2 tasks      | elapsed:    0.0s\n",
      "[Parallel(n_jobs=-1)]: Done 176 tasks      | elapsed:    0.3s\n",
      "[Parallel(n_jobs=-1)]: Done 8688 tasks      | elapsed:    1.3s\n",
      "[Parallel(n_jobs=-1)]: Done 40944 tasks      | elapsed:    5.4s\n",
      "[Parallel(n_jobs=-1)]: Done 82416 tasks      | elapsed:   12.1s\n",
      "[Parallel(n_jobs=-1)]: Done 133104 tasks      | elapsed:   20.7s\n",
      "[Parallel(n_jobs=-1)]: Done 193008 tasks      | elapsed:   30.1s\n",
      "[Parallel(n_jobs=-1)]: Done 258048 out of 258048 | elapsed:   39.5s finished\n"
     ]
    },
    {
     "name": "stdout",
     "output_type": "stream",
     "text": [
      "Created new image: ID = 350430, Name = BKG_Subtract_C2-Site_2_T000_Z000_20x_GActin_biosensor_purified_proteins_plusActing_500ms_2--ID346068\n",
      "Image:346708  Name:\"C2-Site_3_T000_Z000_20x_GActin_biosensor_purified_proteins_plusActing_500ms_2--ID346133\" (owner=rensham)\n",
      "Image:346133  Name:\"2025-09-05_16-06-19-sample-20x_purified_proteins\" (owner=rensham)\n"
     ]
    },
    {
     "name": "stderr",
     "output_type": "stream",
     "text": [
      "[Parallel(n_jobs=-1)]: Using backend LokyBackend with 8 concurrent workers.\n",
      "[Parallel(n_jobs=-1)]: Done   2 tasks      | elapsed:    0.0s\n",
      "[Parallel(n_jobs=-1)]: Done 176 tasks      | elapsed:    0.3s\n",
      "[Parallel(n_jobs=-1)]: Done 8688 tasks      | elapsed:    1.2s\n",
      "[Parallel(n_jobs=-1)]: Done 40944 tasks      | elapsed:    5.0s\n",
      "[Parallel(n_jobs=-1)]: Done 82416 tasks      | elapsed:   10.6s\n",
      "[Parallel(n_jobs=-1)]: Done 133104 tasks      | elapsed:   18.2s\n",
      "[Parallel(n_jobs=-1)]: Done 193008 tasks      | elapsed:   26.0s\n",
      "[Parallel(n_jobs=-1)]: Done 258048 out of 258048 | elapsed:   35.7s finished\n"
     ]
    },
    {
     "name": "stdout",
     "output_type": "stream",
     "text": [
      "Created new image: ID = 350431, Name = BKG_Subtract_C2-Site_3_T000_Z000_20x_GActin_biosensor_purified_proteins_plusActing_500ms_2--ID346133\n",
      "Image:346709  Name:\"C3-Site_0_T000_Z000_20x_GActin_biosensor_purified_proteins_plusActing_500ms_2--ID346101\" (owner=rensham)\n",
      "Image:346101  Name:\"2025-09-05_16-06-27-sample-20x_purified_proteins\" (owner=rensham)\n"
     ]
    },
    {
     "name": "stderr",
     "output_type": "stream",
     "text": [
      "[Parallel(n_jobs=-1)]: Using backend LokyBackend with 8 concurrent workers.\n",
      "[Parallel(n_jobs=-1)]: Done   2 tasks      | elapsed:    0.0s\n",
      "[Parallel(n_jobs=-1)]: Done 176 tasks      | elapsed:    0.3s\n",
      "[Parallel(n_jobs=-1)]: Done 8688 tasks      | elapsed:    1.3s\n",
      "[Parallel(n_jobs=-1)]: Done 40944 tasks      | elapsed:    5.9s\n",
      "[Parallel(n_jobs=-1)]: Done 82416 tasks      | elapsed:   11.9s\n",
      "[Parallel(n_jobs=-1)]: Done 133104 tasks      | elapsed:   19.5s\n",
      "[Parallel(n_jobs=-1)]: Done 193008 tasks      | elapsed:   28.8s\n",
      "[Parallel(n_jobs=-1)]: Done 258048 out of 258048 | elapsed:   38.5s finished\n"
     ]
    },
    {
     "name": "stdout",
     "output_type": "stream",
     "text": [
      "Created new image: ID = 350432, Name = BKG_Subtract_C3-Site_0_T000_Z000_20x_GActin_biosensor_purified_proteins_plusActing_500ms_2--ID346101\n",
      "Image:346710  Name:\"C3-Site_1_T000_Z000_20x_GActin_biosensor_purified_proteins_plusActing_500ms_2--ID346144\" (owner=rensham)\n",
      "Image:346144  Name:\"2025-09-05_16-06-35-sample-20x_purified_proteins\" (owner=rensham)\n"
     ]
    },
    {
     "name": "stderr",
     "output_type": "stream",
     "text": [
      "[Parallel(n_jobs=-1)]: Using backend LokyBackend with 8 concurrent workers.\n",
      "[Parallel(n_jobs=-1)]: Done   2 tasks      | elapsed:    0.0s\n",
      "[Parallel(n_jobs=-1)]: Done 176 tasks      | elapsed:    0.3s\n",
      "[Parallel(n_jobs=-1)]: Done 8688 tasks      | elapsed:    1.2s\n",
      "[Parallel(n_jobs=-1)]: Done 40944 tasks      | elapsed:    5.5s\n",
      "[Parallel(n_jobs=-1)]: Done 82416 tasks      | elapsed:   12.4s\n",
      "[Parallel(n_jobs=-1)]: Done 133104 tasks      | elapsed:   20.0s\n",
      "[Parallel(n_jobs=-1)]: Done 193008 tasks      | elapsed:   29.3s\n",
      "[Parallel(n_jobs=-1)]: Done 258048 out of 258048 | elapsed:   37.9s finished\n"
     ]
    },
    {
     "name": "stdout",
     "output_type": "stream",
     "text": [
      "Created new image: ID = 350433, Name = BKG_Subtract_C3-Site_1_T000_Z000_20x_GActin_biosensor_purified_proteins_plusActing_500ms_2--ID346144\n",
      "Image:346711  Name:\"C3-Site_2_T000_Z000_20x_GActin_biosensor_purified_proteins_plusActing_500ms_2--ID346087\" (owner=rensham)\n",
      "Image:346087  Name:\"2025-09-05_16-06-43-sample-20x_purified_proteins\" (owner=rensham)\n"
     ]
    },
    {
     "name": "stderr",
     "output_type": "stream",
     "text": [
      "[Parallel(n_jobs=-1)]: Using backend LokyBackend with 8 concurrent workers.\n",
      "[Parallel(n_jobs=-1)]: Done   2 tasks      | elapsed:    0.0s\n",
      "[Parallel(n_jobs=-1)]: Done 176 tasks      | elapsed:    0.3s\n",
      "[Parallel(n_jobs=-1)]: Done 8688 tasks      | elapsed:    1.5s\n",
      "[Parallel(n_jobs=-1)]: Done 40944 tasks      | elapsed:    6.4s\n",
      "[Parallel(n_jobs=-1)]: Done 82416 tasks      | elapsed:   12.2s\n",
      "[Parallel(n_jobs=-1)]: Done 133104 tasks      | elapsed:   20.1s\n",
      "[Parallel(n_jobs=-1)]: Done 193008 tasks      | elapsed:   28.7s\n",
      "[Parallel(n_jobs=-1)]: Done 258048 out of 258048 | elapsed:   38.4s finished\n"
     ]
    },
    {
     "name": "stdout",
     "output_type": "stream",
     "text": [
      "Created new image: ID = 350434, Name = BKG_Subtract_C3-Site_2_T000_Z000_20x_GActin_biosensor_purified_proteins_plusActing_500ms_2--ID346087\n",
      "Image:346712  Name:\"C3-Site_3_T000_Z000_20x_GActin_biosensor_purified_proteins_plusActing_500ms_2--ID346136\" (owner=rensham)\n",
      "Image:346136  Name:\"2025-09-05_16-06-51-sample-20x_purified_proteins\" (owner=rensham)\n"
     ]
    },
    {
     "name": "stderr",
     "output_type": "stream",
     "text": [
      "[Parallel(n_jobs=-1)]: Using backend LokyBackend with 8 concurrent workers.\n",
      "[Parallel(n_jobs=-1)]: Done   2 tasks      | elapsed:    0.0s\n",
      "[Parallel(n_jobs=-1)]: Done 176 tasks      | elapsed:    0.3s\n",
      "[Parallel(n_jobs=-1)]: Done 8688 tasks      | elapsed:    1.5s\n",
      "[Parallel(n_jobs=-1)]: Done 40944 tasks      | elapsed:    5.4s\n",
      "[Parallel(n_jobs=-1)]: Done 82416 tasks      | elapsed:   11.9s\n",
      "[Parallel(n_jobs=-1)]: Done 133104 tasks      | elapsed:   20.1s\n",
      "[Parallel(n_jobs=-1)]: Done 193008 tasks      | elapsed:   29.7s\n",
      "[Parallel(n_jobs=-1)]: Done 258048 out of 258048 | elapsed:   39.3s finished\n"
     ]
    },
    {
     "name": "stdout",
     "output_type": "stream",
     "text": [
      "Created new image: ID = 350435, Name = BKG_Subtract_C3-Site_3_T000_Z000_20x_GActin_biosensor_purified_proteins_plusActing_500ms_2--ID346136\n",
      "Image:346713  Name:\"C4-Site_0_T000_Z000_20x_GActin_biosensor_purified_proteins_plusActing_500ms_2--ID346099\" (owner=rensham)\n",
      "Image:346099  Name:\"2025-09-05_16-07-00-sample-20x_purified_proteins\" (owner=rensham)\n"
     ]
    },
    {
     "name": "stderr",
     "output_type": "stream",
     "text": [
      "[Parallel(n_jobs=-1)]: Using backend LokyBackend with 8 concurrent workers.\n",
      "[Parallel(n_jobs=-1)]: Done   2 tasks      | elapsed:    0.2s\n",
      "[Parallel(n_jobs=-1)]: Done  72 tasks      | elapsed:    0.6s\n",
      "[Parallel(n_jobs=-1)]: Done 3336 tasks      | elapsed:    1.3s\n",
      "[Parallel(n_jobs=-1)]: Done 34824 tasks      | elapsed:    4.4s\n",
      "[Parallel(n_jobs=-1)]: Done 76296 tasks      | elapsed:   10.5s\n",
      "[Parallel(n_jobs=-1)]: Done 126984 tasks      | elapsed:   17.5s\n",
      "[Parallel(n_jobs=-1)]: Done 186888 tasks      | elapsed:   25.5s\n",
      "[Parallel(n_jobs=-1)]: Done 255084 tasks      | elapsed:   35.2s\n",
      "[Parallel(n_jobs=-1)]: Done 258033 out of 258048 | elapsed:   35.8s remaining:    0.0s\n",
      "[Parallel(n_jobs=-1)]: Done 258048 out of 258048 | elapsed:   35.8s finished\n"
     ]
    },
    {
     "name": "stdout",
     "output_type": "stream",
     "text": [
      "Created new image: ID = 350436, Name = BKG_Subtract_C4-Site_0_T000_Z000_20x_GActin_biosensor_purified_proteins_plusActing_500ms_2--ID346099\n",
      "Image:346714  Name:\"C4-Site_1_T000_Z000_20x_GActin_biosensor_purified_proteins_plusActing_500ms_2--ID346130\" (owner=rensham)\n",
      "Image:346130  Name:\"2025-09-05_16-07-08-sample-20x_purified_proteins\" (owner=rensham)\n"
     ]
    },
    {
     "name": "stderr",
     "output_type": "stream",
     "text": [
      "[Parallel(n_jobs=-1)]: Using backend LokyBackend with 8 concurrent workers.\n",
      "[Parallel(n_jobs=-1)]: Done   2 tasks      | elapsed:    0.0s\n",
      "[Parallel(n_jobs=-1)]: Done 176 tasks      | elapsed:    0.2s\n",
      "[Parallel(n_jobs=-1)]: Done 8688 tasks      | elapsed:    1.2s\n",
      "[Parallel(n_jobs=-1)]: Done 40944 tasks      | elapsed:    5.9s\n",
      "[Parallel(n_jobs=-1)]: Done 82416 tasks      | elapsed:   11.8s\n",
      "[Parallel(n_jobs=-1)]: Done 133104 tasks      | elapsed:   18.8s\n",
      "[Parallel(n_jobs=-1)]: Done 193008 tasks      | elapsed:   27.5s\n",
      "[Parallel(n_jobs=-1)]: Done 258048 out of 258048 | elapsed:   37.3s finished\n"
     ]
    },
    {
     "name": "stdout",
     "output_type": "stream",
     "text": [
      "Created new image: ID = 350437, Name = BKG_Subtract_C4-Site_1_T000_Z000_20x_GActin_biosensor_purified_proteins_plusActing_500ms_2--ID346130\n",
      "Image:346715  Name:\"C4-Site_2_T000_Z000_20x_GActin_biosensor_purified_proteins_plusActing_500ms_2--ID346149\" (owner=rensham)\n",
      "Image:346149  Name:\"2025-09-05_16-07-16-sample-20x_purified_proteins\" (owner=rensham)\n"
     ]
    },
    {
     "name": "stderr",
     "output_type": "stream",
     "text": [
      "[Parallel(n_jobs=-1)]: Using backend LokyBackend with 8 concurrent workers.\n",
      "[Parallel(n_jobs=-1)]: Done   2 tasks      | elapsed:    0.0s\n",
      "[Parallel(n_jobs=-1)]: Done 176 tasks      | elapsed:    0.3s\n",
      "[Parallel(n_jobs=-1)]: Done 8688 tasks      | elapsed:    1.3s\n",
      "[Parallel(n_jobs=-1)]: Done 40944 tasks      | elapsed:    4.9s\n",
      "[Parallel(n_jobs=-1)]: Done 82416 tasks      | elapsed:   11.4s\n",
      "[Parallel(n_jobs=-1)]: Done 133104 tasks      | elapsed:   18.4s\n",
      "[Parallel(n_jobs=-1)]: Done 193008 tasks      | elapsed:   27.4s\n",
      "[Parallel(n_jobs=-1)]: Done 258048 out of 258048 | elapsed:   36.2s finished\n"
     ]
    },
    {
     "name": "stdout",
     "output_type": "stream",
     "text": [
      "Created new image: ID = 350438, Name = BKG_Subtract_C4-Site_2_T000_Z000_20x_GActin_biosensor_purified_proteins_plusActing_500ms_2--ID346149\n",
      "Image:346716  Name:\"C4-Site_3_T000_Z000_20x_GActin_biosensor_purified_proteins_plusActing_500ms_2--ID346145\" (owner=rensham)\n",
      "Image:346145  Name:\"2025-09-05_16-07-24-sample-20x_purified_proteins\" (owner=rensham)\n"
     ]
    },
    {
     "name": "stderr",
     "output_type": "stream",
     "text": [
      "[Parallel(n_jobs=-1)]: Using backend LokyBackend with 8 concurrent workers.\n",
      "[Parallel(n_jobs=-1)]: Done   2 tasks      | elapsed:    0.0s\n",
      "[Parallel(n_jobs=-1)]: Done 176 tasks      | elapsed:    0.3s\n",
      "[Parallel(n_jobs=-1)]: Done 8688 tasks      | elapsed:    1.3s\n",
      "[Parallel(n_jobs=-1)]: Done 40944 tasks      | elapsed:    5.8s\n",
      "[Parallel(n_jobs=-1)]: Done 82416 tasks      | elapsed:   11.5s\n",
      "[Parallel(n_jobs=-1)]: Done 133104 tasks      | elapsed:   18.6s\n",
      "[Parallel(n_jobs=-1)]: Done 193008 tasks      | elapsed:   27.7s\n",
      "[Parallel(n_jobs=-1)]: Done 258048 out of 258048 | elapsed:   37.0s finished\n"
     ]
    },
    {
     "name": "stdout",
     "output_type": "stream",
     "text": [
      "Created new image: ID = 350439, Name = BKG_Subtract_C4-Site_3_T000_Z000_20x_GActin_biosensor_purified_proteins_plusActing_500ms_2--ID346145\n"
     ]
    }
   ],
   "source": [
    "for sample_id in list_of_sample_ids:\n",
    "    image_object = omero.get_image (conn, sample_id)\n",
    "    md = omero.get_key_value_metadata (image_object)\n",
    "    phase_image_id = md[\"phase_series_image_id\"]\n",
    "    n_phases = md[\"Toggel-Number of Phases\"]\n",
    "    reference_image_id = md[\"reference_image_id\"]\n",
    "    \n",
    "    phase_object = omero.get_image (conn, phase_image_id)\n",
    "    \n",
    "    # get phase series\n",
    "    pixels = phase_object.getPrimaryPixels()\n",
    "    zct_list = [[0, 0, phase] for phase in range(int(n_phases))] # define zct_list\n",
    "    phase_series = omero.get_planes(zct_list, pixels)\n",
    "    \n",
    "    background_subtracted = []\n",
    "    for i, plane in enumerate(phase_series):\n",
    "        subtract_background = np.subtract(plane, median_background_stack[i])\n",
    "        background_subtracted.append(subtract_background)\n",
    "    \n",
    "    phase_stack_bkg_subtracted = np.stack(background_subtracted, axis=0)\n",
    "\n",
    "    # Fit processed series    \n",
    "    # calibrate reference\n",
    "    \n",
    "    if (reference_image_id != current_ref_id): \n",
    "        # check to see if reference has already been used for calibration\n",
    "        # load reference image object from omero\n",
    "        ref_img_obj = conn.getObject(\"Image\", reference_image_id)\n",
    "        height = ref_img_obj.getSizeY()\n",
    "        width = ref_img_obj.getSizeX()\n",
    "        \n",
    "        # read reference metadata\n",
    "        ref_metadata = omero.get_key_value_metadata (ref_img_obj)\n",
    "        frequency = float(ref_metadata[\"modulation_frequency_Hz\"])\n",
    "        ref_lifetime = float(ref_metadata[\"reference_lifetime_ns\"])\n",
    "        n_phases = int(ref_metadata[\"n_phases\"])       \n",
    "        \n",
    "        # calculate expected values for reference lifetime with modulation frequency and number of phases\n",
    "        omega, phases, phase_delay_radians, modulation_depth = toggel.calculate_expected_values (frequency, ref_lifetime, n_phases)\n",
    "        #key_value_pairs.append([\"omega\", str(omega)])\n",
    "        #key_value_pairs.append([\"frequency_Hz\", str(frequency)])\n",
    "        \n",
    "        # get phase series\n",
    "        pixels = ref_img_obj.getPrimaryPixels()\n",
    "        zct_list = [[0, 0, phase] for phase in range(int(n_phases))] # define zct_list\n",
    "        ref_phase_series = omero.get_planes(zct_list, pixels)\n",
    "        \n",
    "        # calibrate reference\n",
    "        #ref_mean, A_fitted, phi_fitted, offset_fitted, phases, calibration_m, calibration_phi = toggel.calibrate_reference (ref_phase_series, phases, phase_delay_radians, modulation_depth, width, height)\n",
    "        # Initialise fitting function\n",
    "        calibration_fun = toggel.FDFLIM_calibration(\n",
    "            ref_phase_series, \n",
    "            phases, \n",
    "            phase_delay_radians, \n",
    "            modulation_depth,\n",
    "            sine_wave\n",
    "            )\n",
    "        \n",
    "        # Run in parallel\n",
    "        print(f\"Calibrating reference image: ID---{reference_image_id}\")\n",
    "        calibration_results = Parallel(n_jobs=-1, backend=\"loky\", verbose=5)(\n",
    "            delayed(calibration_fun.fit_pixel)(x, y) for x, y in np.argwhere(np.min(ref_phase_series, axis=0) > 0)\n",
    "        )\n",
    "        \n",
    "        # Initialize arrays to hold the modulation and phase results\n",
    "        calibration_m = np.zeros((height, width)) # modulation depth calibration values\n",
    "        calibration_phi = np.zeros((height, width)) # phase shift calibration values\n",
    "        A_fitted = np.zeros((height, width))\n",
    "        phi_fitted = np.zeros((height, width))\n",
    "        offset_fitted = np.zeros((height, width))\n",
    "        ref_mean = np.zeros((height, width))\n",
    "        \n",
    "        # populate with results\n",
    "        for x, y, signal_mean, A_fit, phi_fit, offset_fit, cal_m, cal_phi in calibration_results:\n",
    "            calibration_m[x, y] = cal_m\n",
    "            calibration_phi[x, y] = cal_phi\n",
    "            A_fitted[x, y] = A_fit\n",
    "            phi_fitted[x, y] = phi_fit\n",
    "            offset_fitted[x,y] = offset_fit\n",
    "            ref_mean[x, y] = signal_mean\n",
    "                \n",
    "        current_ref_id = reference_image_id\n",
    "\n",
    "    # Initialise fitting function\n",
    "    fit_function = toggel.FDFLIM_fitter(                    \n",
    "            phase_stack_bkg_subtracted,\n",
    "            ref_mean,\n",
    "            A_fitted,\n",
    "            phi_fitted,\n",
    "            offset_fitted,\n",
    "            calibration_m,\n",
    "            calibration_phi,\n",
    "            phases,\n",
    "            frequency,\n",
    "            sine_wave\n",
    "        )\n",
    "    \n",
    "    # Mask of valid pixels\n",
    "    int_min = np.min(phase_stack_bkg_subtracted, axis=0)\n",
    "    int_max = np.max(phase_stack_bkg_subtracted, axis=0)\n",
    "    \n",
    "    valid_pixels = np.argwhere(((int_min >= 0) & (int_max <= 15000))) # exclude pixels where the lowest value in the phase images is negative and max value is close to saturation/saturated\n",
    "    \n",
    "    # Run in parallel\n",
    "    results = Parallel(n_jobs=-1, backend=\"loky\", verbose=5)(\n",
    "        delayed(fit_function.fit_pixel)(x, y) for x, y in valid_pixels\n",
    "    )\n",
    "    \n",
    "    # output arrays\n",
    "    g_values_array = np.full((height, width), np.nan)\n",
    "    s_values_array = np.full((height, width), np.nan)\n",
    "    phase_tau_array = np.full((height, width), np.nan)\n",
    "    mod_tau_array = np.full((height, width), np.nan)\n",
    "    signal_int_array = np.full((height, width), np.nan)\n",
    "    \n",
    "    # populate with results\n",
    "    for x, y, g, s, phase_tau, mod_tau, sig_int in results:\n",
    "        # lifetime quality filter\n",
    "        if ((0 <= g <= 1) & (0 <= s <= 1) & (0 < phase_tau <= 24000) & (0 < mod_tau <= 24000)):\n",
    "            g_values_array[x, y] = g\n",
    "            s_values_array[x, y] = s\n",
    "            phase_tau_array[x, y] = phase_tau\n",
    "            mod_tau_array[x, y] = mod_tau\n",
    "            signal_int_array[x, y] = sig_int\n",
    "\n",
    "    key_value_pairs = [[str(key), str(value)] for key, value in md.items() if not (isinstance(value, float) and np.isnan(value))]\n",
    "    key_value_pairs.append([\"background_image_ids\", str(list_of_bkg_ids)])\n",
    "    key_value_pairs.append([\"image_processing\", \"background subtraction\"])\n",
    "\n",
    "    # processed images to OMERO\n",
    "    sample_name = image_object.getName()\n",
    "    image_title = f\"BKG_Subtract_{sample_name}\"\n",
    "    pixel_size_um = image_object.getPixelSizeX()\n",
    "    map_ann = image_object.getAnnotation()\n",
    "    \n",
    "    # ensure consistency of pixel type\n",
    "    image_list = [arr.astype(np.float32) for arr in [signal_int_array, mod_tau_array, phase_tau_array, g_values_array, s_values_array]]\n",
    "        \n",
    "    # Stack into a 3D array (C, Y, X)\n",
    "    image_stack = np.stack(image_list, axis=0)\n",
    "    \n",
    "    # list of channel names\n",
    "    channel_names = [\"intensity\", \"lifetime_modulation\", \"lifetime_phase\", \"g_values\", \"s_values\"]\n",
    "    channel_labels = dict(enumerate(channel_names, start=1))\n",
    "            \n",
    "    # image description\n",
    "    desc = f\"Frequency domain FLIM data processed from phase series from omero ID: {phase_image_id}.\"\n",
    "    \n",
    "    # upload image to OMERO\n",
    "    image_obj = omero.create_image(\n",
    "        conn, image_title, dataset_id, key_value_pairs, image_stack, channel_names=channel_names, \n",
    "        description=desc, sizeZ=1, sizeC=len(image_stack), sizeT=1, pixel_size_um = pixel_size_um, \n",
    "        sourceImageId=sample_id\n",
    "    )"
   ]
  },
  {
   "cell_type": "code",
   "execution_count": null,
   "id": "6057ee85-7111-4b48-943f-a7ee9105bc97",
   "metadata": {},
   "outputs": [],
   "source": []
  },
  {
   "cell_type": "code",
   "execution_count": null,
   "id": "0492c189-034d-49d4-a074-944ad9543207",
   "metadata": {},
   "outputs": [],
   "source": []
  },
  {
   "cell_type": "code",
   "execution_count": null,
   "id": "23a88f44-19f1-470d-8d50-20d3ad48fe73",
   "metadata": {},
   "outputs": [],
   "source": []
  },
  {
   "cell_type": "code",
   "execution_count": null,
   "id": "df1085d3-f188-42dc-8660-77427194b5e1",
   "metadata": {},
   "outputs": [],
   "source": []
  },
  {
   "cell_type": "code",
   "execution_count": 60,
   "id": "6fd68750-bd78-44f2-b0b8-1ea019c85de3",
   "metadata": {},
   "outputs": [
    {
     "name": "stdout",
     "output_type": "stream",
     "text": [
      "Image:346575  Name:\"B3-Site_2_T000_Z000_20x_GActin_biosensor_purified_proteins_500ms_2--ID346090\" (owner=rensham)\n",
      "Image:346090  Name:\"2025-09-05_15-31-44-sample-20x_purified_proteins\" (owner=rensham)\n"
     ]
    }
   ],
   "source": [
    "sample_id = list_of_sample_ids[0]\n",
    "\n",
    "image_object = omero.get_image (conn, sample_id)\n",
    "md = omero.get_key_value_metadata (image_object)\n",
    "phase_image_id = md[\"phase_series_image_id\"]\n",
    "n_phases = md[\"Toggel-Number of Phases\"]\n",
    "reference_image_id = md[\"reference_image_id\"]\n",
    "\n",
    "phase_object = omero.get_image (conn, phase_image_id)\n",
    "\n",
    "# get phase series\n",
    "pixels = phase_object.getPrimaryPixels()\n",
    "zct_list = [[0, 0, phase] for phase in range(int(n_phases))] # define zct_list\n",
    "phase_series = omero.get_planes(zct_list, pixels)\n",
    "\n",
    "background_subtracted = []\n",
    "for i, plane in enumerate(phase_series):\n",
    "    subtract_background = np.subtract(plane, median_background_stack[i])\n",
    "    background_subtracted.append(subtract_background)\n",
    "\n",
    "phase_stack_bkg_subtracted = np.stack(background_subtracted, axis=0)"
   ]
  },
  {
   "cell_type": "code",
   "execution_count": 61,
   "id": "1dfb586d-c37e-4441-892e-e9f761aa3e37",
   "metadata": {},
   "outputs": [
    {
     "data": {
      "text/plain": [
       "(12, 504, 512)"
      ]
     },
     "execution_count": 61,
     "metadata": {},
     "output_type": "execute_result"
    }
   ],
   "source": [
    "phase_stack_bkg_subtracted.shape"
   ]
  },
  {
   "cell_type": "code",
   "execution_count": 70,
   "id": "b88c7e3c-f4db-4d7f-9ce6-22743d30b53f",
   "metadata": {},
   "outputs": [
    {
     "name": "stdout",
     "output_type": "stream",
     "text": [
      "Calibrating reference image: ID---346044\n"
     ]
    },
    {
     "name": "stderr",
     "output_type": "stream",
     "text": [
      "[Parallel(n_jobs=-1)]: Using backend LokyBackend with 8 concurrent workers.\n",
      "[Parallel(n_jobs=-1)]: Done   2 tasks      | elapsed:    0.0s\n",
      "[Parallel(n_jobs=-1)]: Done 176 tasks      | elapsed:    0.1s\n",
      "[Parallel(n_jobs=-1)]: Done 8688 tasks      | elapsed:    1.0s\n",
      "[Parallel(n_jobs=-1)]: Done 40944 tasks      | elapsed:    3.7s\n",
      "[Parallel(n_jobs=-1)]: Done 82416 tasks      | elapsed:    7.5s\n",
      "[Parallel(n_jobs=-1)]: Done 133104 tasks      | elapsed:   11.7s\n",
      "[Parallel(n_jobs=-1)]: Done 193008 tasks      | elapsed:   18.2s\n",
      "[Parallel(n_jobs=-1)]: Done 258048 out of 258048 | elapsed:   26.1s finished\n"
     ]
    }
   ],
   "source": [
    "# Fit processed series    \n",
    "# calibrate reference\n",
    "current_ref_id = None\n",
    "if (reference_image_id != current_ref_id): \n",
    "    # check to see if reference has already been used for calibration\n",
    "    # load reference image object from omero\n",
    "    ref_img_obj = conn.getObject(\"Image\", reference_image_id)\n",
    "    height = ref_img_obj.getSizeY()\n",
    "    width = ref_img_obj.getSizeX()\n",
    "    \n",
    "    # read reference metadata\n",
    "    ref_metadata = omero.get_key_value_metadata (ref_img_obj)\n",
    "    frequency = float(ref_metadata[\"modulation_frequency_Hz\"])\n",
    "    ref_lifetime = float(ref_metadata[\"reference_lifetime_ns\"])\n",
    "    n_phases = int(ref_metadata[\"n_phases\"])       \n",
    "    \n",
    "    # calculate expected values for reference lifetime with modulation frequency and number of phases\n",
    "    omega, phases, phase_delay_radians, modulation_depth = toggel.calculate_expected_values (frequency, ref_lifetime, n_phases)\n",
    "    #key_value_pairs.append([\"omega\", str(omega)])\n",
    "    #key_value_pairs.append([\"frequency_Hz\", str(frequency)])\n",
    "    \n",
    "    # get phase series\n",
    "    pixels = ref_img_obj.getPrimaryPixels()\n",
    "    zct_list = [[0, 0, phase] for phase in range(int(n_phases))] # define zct_list\n",
    "    ref_phase_series = omero.get_planes(zct_list, pixels)\n",
    "    \n",
    "    # calibrate reference\n",
    "    #ref_mean, A_fitted, phi_fitted, offset_fitted, phases, calibration_m, calibration_phi = toggel.calibrate_reference (ref_phase_series, phases, phase_delay_radians, modulation_depth, width, height)\n",
    "    # Initialise fitting function\n",
    "    calibration_fun = toggel.FDFLIM_calibration(\n",
    "        ref_phase_series, \n",
    "        phases, \n",
    "        phase_delay_radians, \n",
    "        modulation_depth,\n",
    "        sine_wave\n",
    "        )\n",
    "    \n",
    "    # Run in parallel\n",
    "    print(f\"Calibrating reference image: ID---{reference_image_id}\")\n",
    "    calibration_results = Parallel(n_jobs=-1, backend=\"loky\", verbose=5)(\n",
    "        delayed(calibration_fun.fit_pixel)(x, y) for x, y in np.argwhere(np.min(ref_phase_series, axis=0) > 0)\n",
    "    )\n",
    "    \n",
    "    # Initialize arrays to hold the modulation and phase results\n",
    "    calibration_m = np.zeros((height, width)) # modulation depth calibration values\n",
    "    calibration_phi = np.zeros((height, width)) # phase shift calibration values\n",
    "    A_fitted = np.zeros((height, width))\n",
    "    phi_fitted = np.zeros((height, width))\n",
    "    offset_fitted = np.zeros((height, width))\n",
    "    ref_mean = np.zeros((height, width))\n",
    "    \n",
    "    # populate with results\n",
    "    for x, y, signal_mean, A_fit, phi_fit, offset_fit, cal_m, cal_phi in calibration_results:\n",
    "        calibration_m[x, y] = cal_m\n",
    "        calibration_phi[x, y] = cal_phi\n",
    "        A_fitted[x, y] = A_fit\n",
    "        phi_fitted[x, y] = phi_fit\n",
    "        offset_fitted[x,y] = offset_fit\n",
    "        ref_mean[x, y] = signal_mean\n",
    "            \n",
    "    current_ref_id = reference_image_id"
   ]
  },
  {
   "cell_type": "code",
   "execution_count": 71,
   "id": "f53048be-358e-4914-9095-d60229b0904b",
   "metadata": {},
   "outputs": [
    {
     "name": "stderr",
     "output_type": "stream",
     "text": [
      "[Parallel(n_jobs=-1)]: Using backend LokyBackend with 8 concurrent workers.\n",
      "[Parallel(n_jobs=-1)]: Done   2 tasks      | elapsed:    0.0s\n",
      "[Parallel(n_jobs=-1)]: Done 176 tasks      | elapsed:    0.3s\n",
      "[Parallel(n_jobs=-1)]: Done 8688 tasks      | elapsed:    1.3s\n",
      "[Parallel(n_jobs=-1)]: Done 40944 tasks      | elapsed:    3.9s\n",
      "[Parallel(n_jobs=-1)]: Done 82416 tasks      | elapsed:    7.5s\n",
      "[Parallel(n_jobs=-1)]: Done 133104 tasks      | elapsed:   13.8s\n",
      "[Parallel(n_jobs=-1)]: Done 193008 tasks      | elapsed:   22.9s\n",
      "[Parallel(n_jobs=-1)]: Done 258048 out of 258048 | elapsed:   31.8s finished\n"
     ]
    }
   ],
   "source": [
    "# Initialise fitting function\n",
    "fit_function = toggel.FDFLIM_fitter(                    \n",
    "        phase_stack_bkg_subtracted,\n",
    "        ref_mean,\n",
    "        A_fitted,\n",
    "        phi_fitted,\n",
    "        offset_fitted,\n",
    "        calibration_m,\n",
    "        calibration_phi,\n",
    "        phases,\n",
    "        frequency,\n",
    "        sine_wave\n",
    "    )\n",
    "\n",
    "# Mask of valid pixels\n",
    "int_min = np.min(phase_stack_bkg_subtracted, axis=0)\n",
    "int_max = np.max(phase_stack_bkg_subtracted, axis=0)\n",
    "\n",
    "valid_pixels = np.argwhere(((int_min >= 0) & (int_max <= 15000))) # exclude pixels where the lowest value in the phase images is negative and max value is close to saturation/saturated\n",
    "\n",
    "# Run in parallel\n",
    "results = Parallel(n_jobs=-1, backend=\"loky\", verbose=5)(\n",
    "    delayed(fit_function.fit_pixel)(x, y) for x, y in valid_pixels\n",
    ")\n",
    "\n",
    "# output arrays\n",
    "g_values_array = np.full((height, width), np.nan)\n",
    "s_values_array = np.full((height, width), np.nan)\n",
    "phase_tau_array = np.full((height, width), np.nan)\n",
    "mod_tau_array = np.full((height, width), np.nan)\n",
    "signal_int_array = np.full((height, width), np.nan)\n",
    "\n",
    "# populate with results\n",
    "for x, y, g, s, phase_tau, mod_tau, sig_int in results:\n",
    "    # lifetime quality filter\n",
    "    if ((0 <= g <= 1) & (0 <= s <= 1) & (0 < phase_tau <= 24000) & (0 < mod_tau <= 24000)):\n",
    "        g_values_array[x, y] = g\n",
    "        s_values_array[x, y] = s\n",
    "        phase_tau_array[x, y] = phase_tau\n",
    "        mod_tau_array[x, y] = mod_tau\n",
    "        signal_int_array[x, y] = sig_int"
   ]
  },
  {
   "cell_type": "code",
   "execution_count": 84,
   "id": "704e19e2-71f3-4567-9a38-188650fa0520",
   "metadata": {},
   "outputs": [],
   "source": [
    "key_value_pairs = [[str(key), str(value)] for key, value in md.items() if not (isinstance(value, float) and np.isnan(value))]\n",
    "key_value_pairs.append([\"background_image_ids\", str(list_of_bkg_ids)])\n",
    "key_value_pairs.append([\"image_processing\", \"background subtraction\"])"
   ]
  },
  {
   "cell_type": "code",
   "execution_count": 85,
   "id": "2094faeb-ccbe-4244-be46-87fb7c5e651f",
   "metadata": {},
   "outputs": [
    {
     "name": "stdout",
     "output_type": "stream",
     "text": [
      "Created new image: ID = 348716, Name = BKG_Subtract_B3-Site_2_T000_Z000_20x_GActin_biosensor_purified_proteins_500ms_2--ID346090\n"
     ]
    }
   ],
   "source": [
    "# processed images to OMERO\n",
    "sample_name = image_object.getName()\n",
    "image_title = f\"BKG_Subtract_{sample_name}\"\n",
    "pixel_size_um = image_object.getPixelSizeX()\n",
    "map_ann = image_object.getAnnotation()\n",
    "\n",
    "# ensure consistency of pixel type\n",
    "image_list = [arr.astype(np.float32) for arr in [signal_int_array, mod_tau_array, phase_tau_array, g_values_array, s_values_array]]\n",
    "    \n",
    "# Stack into a 3D array (C, Y, X)\n",
    "image_stack = np.stack(image_list, axis=0)\n",
    "\n",
    "# list of channel names\n",
    "channel_names = [\"intensity\", \"lifetime_modulation\", \"lifetime_phase\", \"g_values\", \"s_values\"]\n",
    "channel_labels = dict(enumerate(channel_names, start=1))\n",
    "        \n",
    "# image description\n",
    "desc = f\"Frequency domain FLIM data processed from phase series from omero ID: {phase_image_id}.\"\n",
    "\n",
    "# upload image to OMERO\n",
    "image_obj = omero.create_image(\n",
    "    conn, image_title, dataset_id, key_value_pairs, image_stack, channel_names=channel_names, \n",
    "    description=desc, sizeZ=1, sizeC=len(image_stack), sizeT=1, pixel_size_um = pixel_size_um, \n",
    "    sourceImageId=sample_id\n",
    ")"
   ]
  },
  {
   "cell_type": "code",
   "execution_count": 73,
   "id": "274a4215-6432-4b49-905d-d8efc7f9fe30",
   "metadata": {},
   "outputs": [
    {
     "data": {
      "text/plain": [
       "'B3-Site_2_T000_Z000_20x_GActin_biosensor_purified_proteins_500ms_2--ID346090'"
      ]
     },
     "execution_count": 73,
     "metadata": {},
     "output_type": "execute_result"
    }
   ],
   "source": [
    "key_value_pairs = [[str(key), str(value)] for key, value in pos_dict.items() if not (isinstance(value, float) and np.isnan(value))]\n",
    "key_value_pairs.append([\"MicroManager_version\", str(mm_version)])\n",
    "key_value_pairs.append([\"Interval_ms\", str(interval_ms)])\n",
    "key_value_pairs.append([\"MicroManager_filename\", str(filename)])"
   ]
  },
  {
   "cell_type": "code",
   "execution_count": 74,
   "id": "06232ffe-1e08-40b6-977a-80a99400e882",
   "metadata": {},
   "outputs": [
    {
     "ename": "NameError",
     "evalue": "name 'sample_object_id' is not defined",
     "output_type": "error",
     "traceback": [
      "\u001b[1;31m---------------------------------------------------------------------------\u001b[0m",
      "\u001b[1;31mNameError\u001b[0m                                 Traceback (most recent call last)",
      "Cell \u001b[1;32mIn[74], line 1\u001b[0m\n\u001b[1;32m----> 1\u001b[0m sample_object_id\n",
      "\u001b[1;31mNameError\u001b[0m: name 'sample_object_id' is not defined"
     ]
    }
   ],
   "source": [
    "sample_object_id"
   ]
  },
  {
   "cell_type": "code",
   "execution_count": 20,
   "id": "1e85c71e-fc2e-4535-9504-01b066a41e6f",
   "metadata": {},
   "outputs": [
    {
     "name": "stdout",
     "output_type": "stream",
     "text": [
      "Image:346626  Name:\"C5-Site_1_T000_Z000_20x_GActin_biosensor_purified_proteins_500ms_2--ID346064\" (owner=rensham)\n"
     ]
    }
   ],
   "source": [
    "image_object = omero.get_image (conn, 346626)"
   ]
  },
  {
   "cell_type": "code",
   "execution_count": 21,
   "id": "a480a721-cf3a-4638-ba4a-a5a1e4e62773",
   "metadata": {},
   "outputs": [],
   "source": [
    "md = omero.get_key_value_metadata (image_object)"
   ]
  },
  {
   "cell_type": "code",
   "execution_count": 23,
   "id": "1b5e12e5-23b6-422f-aebd-0f3d27f6613f",
   "metadata": {},
   "outputs": [
    {
     "data": {
      "text/plain": [
       "'12'"
      ]
     },
     "execution_count": 23,
     "metadata": {},
     "output_type": "execute_result"
    }
   ],
   "source": [
    "md[\"Toggel-Number of Phases\"]"
   ]
  },
  {
   "cell_type": "code",
   "execution_count": 16,
   "id": "7c7096ba-48c9-41e2-bed4-950ce17050c4",
   "metadata": {},
   "outputs": [
    {
     "data": {
      "text/plain": [
       "'346064'"
      ]
     },
     "execution_count": 16,
     "metadata": {},
     "output_type": "execute_result"
    }
   ],
   "source": [
    "phase_image_id = md[\"phase_series_image_id\"]\n",
    "phase_image_id"
   ]
  },
  {
   "cell_type": "code",
   "execution_count": 17,
   "id": "658c3613-8d3d-4a61-87ca-7c85959bafd6",
   "metadata": {},
   "outputs": [
    {
     "name": "stdout",
     "output_type": "stream",
     "text": [
      "Image:346064  Name:\"2025-09-05_15-34-18-sample-20x_purified_proteins\" (owner=rensham)\n"
     ]
    }
   ],
   "source": [
    "phase_object = omero.get_image (conn, phase_image_id)"
   ]
  },
  {
   "cell_type": "code",
   "execution_count": 18,
   "id": "702d64a2-6057-4fe2-b088-08a395d1ba74",
   "metadata": {},
   "outputs": [
    {
     "data": {
      "text/plain": [
       "12"
      ]
     },
     "execution_count": 18,
     "metadata": {},
     "output_type": "execute_result"
    }
   ],
   "source": [
    "phase_object.getSizeT()"
   ]
  },
  {
   "cell_type": "code",
   "execution_count": null,
   "id": "87d55e08-c997-4792-83da-c59ab3f6d3cf",
   "metadata": {},
   "outputs": [],
   "source": [
    "phase_object = omero.get_image (conn, phase_image_id)\n",
    "n_phases = phase_object.getSizeT()\n",
    "# get phase series\n",
    "pixels = image_object.getPrimaryPixels()\n",
    "zct_list = [[0, 0, phase] for phase in range(n_phases)] # define zct_list\n",
    "phase_series = omero.get_planes(zct_list, pixels)"
   ]
  }
 ],
 "metadata": {
  "kernelspec": {
   "display_name": "Python 3 (ipykernel)",
   "language": "python",
   "name": "python3"
  },
  "language_info": {
   "codemirror_mode": {
    "name": "ipython",
    "version": 3
   },
   "file_extension": ".py",
   "mimetype": "text/x-python",
   "name": "python",
   "nbconvert_exporter": "python",
   "pygments_lexer": "ipython3",
   "version": "3.11.11"
  }
 },
 "nbformat": 4,
 "nbformat_minor": 5
}
