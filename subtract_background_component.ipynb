{
 "cells": [
  {
   "cell_type": "markdown",
   "id": "d253670e-c15e-4097-8625-e1f5ec72381f",
   "metadata": {},
   "source": [
    "# Subtract background component from FD-FLIM data\n",
    "*Matt Renshaw* \n",
    "*CALM STP*\n",
    "*The Francis Crick Institute*\n",
    "*2025-09-19*  \n",
    "\n",
    "**Background**: FLIM data contains information from a heterologous population of molecules. This could include donor (in a FRET or non-FRET state) and background. \n",
    "\n",
    "**Aim**: Using a measured background sample, subtract the background component from the phase image series to improve contrast of donor fluorescence."
   ]
  },
  {
   "cell_type": "markdown",
   "id": "8bf5d5e0-31a8-41a6-a859-eb98640de389",
   "metadata": {},
   "source": [
    "## Table of Contents\n",
    "1. [Setup](#setup)\n",
    "2. "
   ]
  },
  {
   "cell_type": "markdown",
   "id": "871c3436-3a10-4754-b729-66017bbe047e",
   "metadata": {},
   "source": [
    "## Setup <a id=\"setup\"></a>\n",
    "Import libraries\n",
    "\n",
    "Define username and omero host"
   ]
  },
  {
   "cell_type": "code",
   "execution_count": 1,
   "id": "bde4f9b5-2eeb-447b-9e60-9d64feda83d1",
   "metadata": {},
   "outputs": [],
   "source": [
    "import Toggel_utils as toggel\n",
    "import omero_utils as omero"
   ]
  },
  {
   "cell_type": "code",
   "execution_count": 2,
   "id": "ef08f786-ffe4-4be4-b959-603496d016fa",
   "metadata": {},
   "outputs": [],
   "source": [
    "import numpy as np\n",
    "import pandas as pd\n",
    "from pathlib import Path\n",
    "import tifffile\n",
    "import json\n",
    "import os\n",
    "from joblib import Parallel, delayed\n",
    "from scipy.optimize import curve_fit"
   ]
  },
  {
   "cell_type": "code",
   "execution_count": 3,
   "id": "e0b46db8-55a3-4cdc-a565-8f138bb8a76a",
   "metadata": {},
   "outputs": [],
   "source": [
    "username = \"rensham\"\n",
    "#omero_host = \"omero-training.thecrick.org\" # optional: defaults to 'omero-prod.camp.thecrick.org'"
   ]
  },
  {
   "cell_type": "markdown",
   "id": "c6e6bb18-c3f1-4d05-8d1b-706a4ef9f64c",
   "metadata": {},
   "source": [
    "## Generate background phase images <a id=\"get-background\"></a>\n",
    "1. Connect to OMERO\n",
    "2. Get list of background image IDs\n",
    "3. Get planes for background images"
   ]
  },
  {
   "cell_type": "code",
   "execution_count": 4,
   "id": "6eb7be27-7c2f-4286-b509-a881fdefefd3",
   "metadata": {},
   "outputs": [
    {
     "name": "stdout",
     "output_type": "stream",
     "text": [
      "Connected to OMERO server: omero-prod.camp.thecrick.org\n"
     ]
    }
   ],
   "source": [
    "# connect to OMERO\n",
    "conn = omero.connect(username)"
   ]
  },
  {
   "cell_type": "code",
   "execution_count": 5,
   "id": "fc5af45e-9d72-4fc9-91cd-f9e4edaad97a",
   "metadata": {},
   "outputs": [],
   "source": [
    "dataset_id = 11462"
   ]
  },
  {
   "cell_type": "code",
   "execution_count": 54,
   "id": "8686c6e9-93d1-41e7-9a63-7ddfbbfe13a0",
   "metadata": {},
   "outputs": [
    {
     "data": {
      "text/plain": [
       "[346575,\n",
       " 346576,\n",
       " 346577,\n",
       " 346578,\n",
       " 346579,\n",
       " 346580,\n",
       " 346581,\n",
       " 346582,\n",
       " 346583,\n",
       " 346584,\n",
       " 346585,\n",
       " 346586,\n",
       " 346587,\n",
       " 346588,\n",
       " 346589,\n",
       " 346590,\n",
       " 346591,\n",
       " 346592,\n",
       " 346593,\n",
       " 346594,\n",
       " 346595,\n",
       " 346596,\n",
       " 346540,\n",
       " 346541,\n",
       " 346542,\n",
       " 346543,\n",
       " 346544,\n",
       " 346545]"
      ]
     },
     "execution_count": 54,
     "metadata": {},
     "output_type": "execute_result"
    }
   ],
   "source": [
    "list_of_sample_ids = omero.find_image_ids_in_dataset_kv_dict (conn, dataset_id, {\"Biological Entity\":\"Purified protein\"})\n",
    "list_of_sample_ids"
   ]
  },
  {
   "cell_type": "code",
   "execution_count": 25,
   "id": "7c6e29ad-a679-4b87-8db2-2c202bbadb69",
   "metadata": {},
   "outputs": [
    {
     "data": {
      "text/plain": [
       "[346626, 346684, 346653, 346598]"
      ]
     },
     "execution_count": 25,
     "metadata": {},
     "output_type": "execute_result"
    }
   ],
   "source": [
    "list_of_bkg_ids = omero.find_image_ids_in_dataset_kv_dict (conn, dataset_id, {\"Biological Entity\":\"Buffer\"})\n",
    "list_of_bkg_ids"
   ]
  },
  {
   "cell_type": "code",
   "execution_count": 35,
   "id": "8a18ccc8-e660-4a71-bd40-572fb0bf1159",
   "metadata": {},
   "outputs": [
    {
     "name": "stdout",
     "output_type": "stream",
     "text": [
      "Image:346626  Name:\"C5-Site_1_T000_Z000_20x_GActin_biosensor_purified_proteins_500ms_2--ID346064\" (owner=rensham)\n",
      "Image:346064  Name:\"2025-09-05_15-34-18-sample-20x_purified_proteins\" (owner=rensham)\n",
      "Image:346684  Name:\"C5-Site_3_T000_Z000_20x_GActin_biosensor_purified_proteins_500ms_2--ID346056\" (owner=rensham)\n",
      "Image:346056  Name:\"2025-09-05_15-34-34-sample-20x_purified_proteins\" (owner=rensham)\n",
      "Image:346653  Name:\"C5-Site_2_T000_Z000_20x_GActin_biosensor_purified_proteins_500ms_2--ID346062\" (owner=rensham)\n",
      "Image:346062  Name:\"2025-09-05_15-34-26-sample-20x_purified_proteins\" (owner=rensham)\n",
      "Image:346598  Name:\"C5-Site_0_T000_Z000_20x_GActin_biosensor_purified_proteins_500ms_2--ID346138\" (owner=rensham)\n",
      "Image:346138  Name:\"2025-09-05_15-34-10-sample-20x_purified_proteins\" (owner=rensham)\n"
     ]
    }
   ],
   "source": [
    "background_planes_array = []\n",
    "for image_id in list_of_bkg_ids:\n",
    "    image_object = omero.get_image (conn, image_id)\n",
    "    md = omero.get_key_value_metadata (image_object)\n",
    "    phase_image_id = md[\"phase_series_image_id\"]\n",
    "    n_phases = md[\"Toggel-Number of Phases\"]\n",
    "    \n",
    "    phase_object = omero.get_image (conn, phase_image_id)\n",
    "    \n",
    "    # get phase series\n",
    "    pixels = phase_object.getPrimaryPixels()\n",
    "    zct_list = [[0, 0, phase] for phase in range(int(n_phases))] # define zct_list\n",
    "    phase_series = omero.get_planes(zct_list, pixels)\n",
    "    background_planes_array.append(phase_series)\n",
    "\n",
    "background_series_stack = np.stack(background_planes_array, axis=0)"
   ]
  },
  {
   "cell_type": "code",
   "execution_count": 47,
   "id": "c13442c0-4e96-45fd-91e1-5ef825d56d86",
   "metadata": {},
   "outputs": [],
   "source": [
    "n_areas = len(list_of_bkg_ids)\n",
    "median_background = []\n",
    "for phase in range(int(n_phases)):\n",
    "    planes = background_series_stack[:,phase]\n",
    "    median_proj = np.nanmedian(planes, axis=0)\n",
    "    median_background.append(median_proj)\n",
    "\n",
    "median_background_stack = np.stack(median_background, axis=0)"
   ]
  },
  {
   "cell_type": "code",
   "execution_count": 88,
   "id": "c52e2440-ceff-4693-80df-9558589c363f",
   "metadata": {},
   "outputs": [],
   "source": [
    "# Define a sine wave function to fit the data\n",
    "def sine_wave(x, amplitude, phase_shift, offset):\n",
    "    phase_shift = (phase_shift + 180) % 360\n",
    "    return amplitude * np.sin(x + phase_shift) + offset\n",
    "\n",
    "current_ref_id = None"
   ]
  },
  {
   "cell_type": "code",
   "execution_count": 89,
   "id": "486d1942-102b-4502-b797-bece990af3ae",
   "metadata": {},
   "outputs": [
    {
     "name": "stdout",
     "output_type": "stream",
     "text": [
      "Image:346575  Name:\"B3-Site_2_T000_Z000_20x_GActin_biosensor_purified_proteins_500ms_2--ID346090\" (owner=rensham)\n",
      "Image:346090  Name:\"2025-09-05_15-31-44-sample-20x_purified_proteins\" (owner=rensham)\n",
      "Calibrating reference image: ID---346044\n"
     ]
    },
    {
     "name": "stderr",
     "output_type": "stream",
     "text": [
      "[Parallel(n_jobs=-1)]: Using backend LokyBackend with 8 concurrent workers.\n",
      "[Parallel(n_jobs=-1)]: Done   2 tasks      | elapsed:    1.1s\n",
      "[Parallel(n_jobs=-1)]: Done  75 tasks      | elapsed:    1.3s\n",
      "[Parallel(n_jobs=-1)]: Done 3336 tasks      | elapsed:    1.8s\n",
      "[Parallel(n_jobs=-1)]: Done 34824 tasks      | elapsed:    4.3s\n",
      "[Parallel(n_jobs=-1)]: Done 76296 tasks      | elapsed:    7.3s\n",
      "[Parallel(n_jobs=-1)]: Done 126984 tasks      | elapsed:   11.3s\n",
      "[Parallel(n_jobs=-1)]: Done 186888 tasks      | elapsed:   16.3s\n",
      "[Parallel(n_jobs=-1)]: Done 255084 tasks      | elapsed:   21.9s\n",
      "[Parallel(n_jobs=-1)]: Done 258048 out of 258048 | elapsed:   22.2s finished\n",
      "[Parallel(n_jobs=-1)]: Using backend LokyBackend with 8 concurrent workers.\n",
      "[Parallel(n_jobs=-1)]: Done   2 tasks      | elapsed:    0.0s\n",
      "[Parallel(n_jobs=-1)]: Done 176 tasks      | elapsed:    0.3s\n",
      "[Parallel(n_jobs=-1)]: Done 8688 tasks      | elapsed:    1.3s\n",
      "[Parallel(n_jobs=-1)]: Done 40944 tasks      | elapsed:    5.1s\n",
      "[Parallel(n_jobs=-1)]: Done 82416 tasks      | elapsed:   10.0s\n",
      "[Parallel(n_jobs=-1)]: Done 133104 tasks      | elapsed:   15.4s\n",
      "[Parallel(n_jobs=-1)]: Done 193008 tasks      | elapsed:   22.2s\n",
      "[Parallel(n_jobs=-1)]: Done 258048 out of 258048 | elapsed:   29.5s finished\n"
     ]
    },
    {
     "name": "stdout",
     "output_type": "stream",
     "text": [
      "Created new image: ID = 350248, Name = BKG_Subtract_B3-Site_2_T000_Z000_20x_GActin_biosensor_purified_proteins_500ms_2--ID346090\n",
      "Image:346576  Name:\"B3-Site_3_T000_Z000_20x_GActin_biosensor_purified_proteins_500ms_2--ID346123\" (owner=rensham)\n",
      "Image:346123  Name:\"2025-09-05_15-31-52-sample-20x_purified_proteins\" (owner=rensham)\n"
     ]
    },
    {
     "name": "stderr",
     "output_type": "stream",
     "text": [
      "[Parallel(n_jobs=-1)]: Using backend LokyBackend with 8 concurrent workers.\n",
      "[Parallel(n_jobs=-1)]: Done   2 tasks      | elapsed:    0.0s\n",
      "[Parallel(n_jobs=-1)]: Done 176 tasks      | elapsed:    0.3s\n",
      "[Parallel(n_jobs=-1)]: Done 8688 tasks      | elapsed:    1.5s\n",
      "[Parallel(n_jobs=-1)]: Done 40944 tasks      | elapsed:    4.2s\n",
      "[Parallel(n_jobs=-1)]: Done 82416 tasks      | elapsed:    9.6s\n",
      "[Parallel(n_jobs=-1)]: Done 133104 tasks      | elapsed:   15.6s\n",
      "[Parallel(n_jobs=-1)]: Done 193008 tasks      | elapsed:   23.4s\n",
      "[Parallel(n_jobs=-1)]: Done 258048 out of 258048 | elapsed:   33.4s finished\n"
     ]
    },
    {
     "name": "stdout",
     "output_type": "stream",
     "text": [
      "Created new image: ID = 350249, Name = BKG_Subtract_B3-Site_3_T000_Z000_20x_GActin_biosensor_purified_proteins_500ms_2--ID346123\n",
      "Image:346577  Name:\"B4-Site_0_T000_Z000_20x_GActin_biosensor_purified_proteins_500ms_2--ID346164\" (owner=rensham)\n",
      "Image:346164  Name:\"2025-09-05_15-30-55-sample-20x_purified_proteins\" (owner=rensham)\n"
     ]
    },
    {
     "name": "stderr",
     "output_type": "stream",
     "text": [
      "[Parallel(n_jobs=-1)]: Using backend LokyBackend with 8 concurrent workers.\n",
      "[Parallel(n_jobs=-1)]: Done   2 tasks      | elapsed:    0.0s\n",
      "[Parallel(n_jobs=-1)]: Done 176 tasks      | elapsed:    0.3s\n",
      "[Parallel(n_jobs=-1)]: Done 8688 tasks      | elapsed:    1.7s\n",
      "[Parallel(n_jobs=-1)]: Done 40944 tasks      | elapsed:    5.9s\n",
      "[Parallel(n_jobs=-1)]: Done 82416 tasks      | elapsed:   12.4s\n",
      "[Parallel(n_jobs=-1)]: Done 133104 tasks      | elapsed:   20.2s\n",
      "[Parallel(n_jobs=-1)]: Done 193008 tasks      | elapsed:   29.0s\n",
      "[Parallel(n_jobs=-1)]: Done 258048 out of 258048 | elapsed:   39.1s finished\n"
     ]
    },
    {
     "name": "stdout",
     "output_type": "stream",
     "text": [
      "Created new image: ID = 350250, Name = BKG_Subtract_B4-Site_0_T000_Z000_20x_GActin_biosensor_purified_proteins_500ms_2--ID346164\n",
      "Image:346578  Name:\"B4-Site_1_T000_Z000_20x_GActin_biosensor_purified_proteins_500ms_2--ID346134\" (owner=rensham)\n",
      "Image:346134  Name:\"2025-09-05_15-31-03-sample-20x_purified_proteins\" (owner=rensham)\n"
     ]
    },
    {
     "name": "stderr",
     "output_type": "stream",
     "text": [
      "[Parallel(n_jobs=-1)]: Using backend LokyBackend with 8 concurrent workers.\n",
      "[Parallel(n_jobs=-1)]: Done   2 tasks      | elapsed:    0.0s\n",
      "[Parallel(n_jobs=-1)]: Done 176 tasks      | elapsed:    0.3s\n",
      "[Parallel(n_jobs=-1)]: Done 8688 tasks      | elapsed:    1.3s\n",
      "[Parallel(n_jobs=-1)]: Done 40944 tasks      | elapsed:    4.9s\n",
      "[Parallel(n_jobs=-1)]: Done 82416 tasks      | elapsed:   12.0s\n",
      "[Parallel(n_jobs=-1)]: Done 133104 tasks      | elapsed:   18.8s\n",
      "[Parallel(n_jobs=-1)]: Done 193008 tasks      | elapsed:   27.8s\n",
      "[Parallel(n_jobs=-1)]: Done 258048 out of 258048 | elapsed:   37.3s finished\n"
     ]
    },
    {
     "name": "stdout",
     "output_type": "stream",
     "text": [
      "Created new image: ID = 350251, Name = BKG_Subtract_B4-Site_1_T000_Z000_20x_GActin_biosensor_purified_proteins_500ms_2--ID346134\n",
      "Image:346579  Name:\"B4-Site_2_T000_Z000_20x_GActin_biosensor_purified_proteins_500ms_2--ID346091\" (owner=rensham)\n",
      "Image:346091  Name:\"2025-09-05_15-31-11-sample-20x_purified_proteins\" (owner=rensham)\n"
     ]
    },
    {
     "name": "stderr",
     "output_type": "stream",
     "text": [
      "[Parallel(n_jobs=-1)]: Using backend LokyBackend with 8 concurrent workers.\n",
      "[Parallel(n_jobs=-1)]: Done   2 tasks      | elapsed:    0.0s\n",
      "[Parallel(n_jobs=-1)]: Done 176 tasks      | elapsed:    0.3s\n",
      "[Parallel(n_jobs=-1)]: Done 8688 tasks      | elapsed:    1.3s\n",
      "[Parallel(n_jobs=-1)]: Done 40944 tasks      | elapsed:    5.5s\n",
      "[Parallel(n_jobs=-1)]: Done 82416 tasks      | elapsed:   11.7s\n",
      "[Parallel(n_jobs=-1)]: Done 133104 tasks      | elapsed:   19.3s\n",
      "[Parallel(n_jobs=-1)]: Done 193008 tasks      | elapsed:   27.9s\n",
      "[Parallel(n_jobs=-1)]: Done 258048 out of 258048 | elapsed:   36.9s finished\n"
     ]
    },
    {
     "name": "stdout",
     "output_type": "stream",
     "text": [
      "Created new image: ID = 350252, Name = BKG_Subtract_B4-Site_2_T000_Z000_20x_GActin_biosensor_purified_proteins_500ms_2--ID346091\n",
      "Image:346580  Name:\"B4-Site_3_T000_Z000_20x_GActin_biosensor_purified_proteins_500ms_2--ID346118\" (owner=rensham)\n",
      "Image:346118  Name:\"2025-09-05_15-31-19-sample-20x_purified_proteins\" (owner=rensham)\n"
     ]
    },
    {
     "name": "stderr",
     "output_type": "stream",
     "text": [
      "[Parallel(n_jobs=-1)]: Using backend LokyBackend with 8 concurrent workers.\n",
      "[Parallel(n_jobs=-1)]: Done   2 tasks      | elapsed:    0.0s\n",
      "[Parallel(n_jobs=-1)]: Done 176 tasks      | elapsed:    0.3s\n",
      "[Parallel(n_jobs=-1)]: Done 8688 tasks      | elapsed:    1.2s\n",
      "[Parallel(n_jobs=-1)]: Done 40944 tasks      | elapsed:    4.7s\n",
      "[Parallel(n_jobs=-1)]: Done 82416 tasks      | elapsed:   10.5s\n",
      "[Parallel(n_jobs=-1)]: Done 133104 tasks      | elapsed:   16.3s\n",
      "[Parallel(n_jobs=-1)]: Done 193008 tasks      | elapsed:   24.8s\n",
      "[Parallel(n_jobs=-1)]: Done 258048 out of 258048 | elapsed:   33.4s finished\n"
     ]
    },
    {
     "name": "stdout",
     "output_type": "stream",
     "text": [
      "Created new image: ID = 350253, Name = BKG_Subtract_B4-Site_3_T000_Z000_20x_GActin_biosensor_purified_proteins_500ms_2--ID346118\n",
      "Image:346581  Name:\"B5-Site_0_T000_Z000_20x_GActin_biosensor_purified_proteins_500ms_2--ID346077\" (owner=rensham)\n",
      "Image:346077  Name:\"2025-09-05_15-30-23-sample-20x_purified_proteins\" (owner=rensham)\n"
     ]
    },
    {
     "name": "stderr",
     "output_type": "stream",
     "text": [
      "[Parallel(n_jobs=-1)]: Using backend LokyBackend with 8 concurrent workers.\n",
      "[Parallel(n_jobs=-1)]: Done   2 tasks      | elapsed:    0.0s\n",
      "[Parallel(n_jobs=-1)]: Done 176 tasks      | elapsed:    0.3s\n",
      "[Parallel(n_jobs=-1)]: Done 8688 tasks      | elapsed:    1.4s\n",
      "[Parallel(n_jobs=-1)]: Done 40944 tasks      | elapsed:    5.0s\n",
      "[Parallel(n_jobs=-1)]: Done 82416 tasks      | elapsed:   10.5s\n",
      "[Parallel(n_jobs=-1)]: Done 133104 tasks      | elapsed:   17.6s\n",
      "[Parallel(n_jobs=-1)]: Done 193008 tasks      | elapsed:   25.9s\n",
      "[Parallel(n_jobs=-1)]: Done 258048 out of 258048 | elapsed:   35.6s finished\n"
     ]
    },
    {
     "name": "stdout",
     "output_type": "stream",
     "text": [
      "Created new image: ID = 350254, Name = BKG_Subtract_B5-Site_0_T000_Z000_20x_GActin_biosensor_purified_proteins_500ms_2--ID346077\n",
      "Image:346582  Name:\"B5-Site_1_T000_Z000_20x_GActin_biosensor_purified_proteins_500ms_2--ID346128\" (owner=rensham)\n",
      "Image:346128  Name:\"2025-09-05_15-30-31-sample-20x_purified_proteins\" (owner=rensham)\n"
     ]
    },
    {
     "name": "stderr",
     "output_type": "stream",
     "text": [
      "[Parallel(n_jobs=-1)]: Using backend LokyBackend with 8 concurrent workers.\n",
      "[Parallel(n_jobs=-1)]: Done   2 tasks      | elapsed:    0.0s\n",
      "[Parallel(n_jobs=-1)]: Done 176 tasks      | elapsed:    0.3s\n",
      "[Parallel(n_jobs=-1)]: Done 8688 tasks      | elapsed:    1.2s\n",
      "[Parallel(n_jobs=-1)]: Done 40944 tasks      | elapsed:    4.8s\n",
      "[Parallel(n_jobs=-1)]: Done 82416 tasks      | elapsed:   11.2s\n",
      "[Parallel(n_jobs=-1)]: Done 133104 tasks      | elapsed:   17.9s\n",
      "[Parallel(n_jobs=-1)]: Done 193008 tasks      | elapsed:   26.0s\n",
      "[Parallel(n_jobs=-1)]: Done 258048 out of 258048 | elapsed:   34.9s finished\n"
     ]
    },
    {
     "name": "stdout",
     "output_type": "stream",
     "text": [
      "Created new image: ID = 350255, Name = BKG_Subtract_B5-Site_1_T000_Z000_20x_GActin_biosensor_purified_proteins_500ms_2--ID346128\n",
      "Image:346583  Name:\"B5-Site_2_T000_Z000_20x_GActin_biosensor_purified_proteins_500ms_2--ID346173\" (owner=rensham)\n",
      "Image:346173  Name:\"2025-09-05_15-30-39-sample-20x_purified_proteins\" (owner=rensham)\n"
     ]
    },
    {
     "name": "stderr",
     "output_type": "stream",
     "text": [
      "[Parallel(n_jobs=-1)]: Using backend LokyBackend with 8 concurrent workers.\n",
      "[Parallel(n_jobs=-1)]: Done   2 tasks      | elapsed:    0.0s\n",
      "[Parallel(n_jobs=-1)]: Done 176 tasks      | elapsed:    0.2s\n",
      "[Parallel(n_jobs=-1)]: Done 8688 tasks      | elapsed:    1.2s\n",
      "[Parallel(n_jobs=-1)]: Done 40944 tasks      | elapsed:    5.3s\n",
      "[Parallel(n_jobs=-1)]: Done 82416 tasks      | elapsed:   10.5s\n",
      "[Parallel(n_jobs=-1)]: Done 133104 tasks      | elapsed:   17.5s\n",
      "[Parallel(n_jobs=-1)]: Done 193008 tasks      | elapsed:   25.7s\n",
      "[Parallel(n_jobs=-1)]: Done 258048 out of 258048 | elapsed:   35.1s finished\n"
     ]
    },
    {
     "name": "stdout",
     "output_type": "stream",
     "text": [
      "Created new image: ID = 350256, Name = BKG_Subtract_B5-Site_2_T000_Z000_20x_GActin_biosensor_purified_proteins_500ms_2--ID346173\n",
      "Image:346584  Name:\"B5-Site_3_T000_Z000_20x_GActin_biosensor_purified_proteins_500ms_2--ID346170\" (owner=rensham)\n",
      "Image:346170  Name:\"2025-09-05_15-30-47-sample-20x_purified_proteins\" (owner=rensham)\n"
     ]
    },
    {
     "name": "stderr",
     "output_type": "stream",
     "text": [
      "[Parallel(n_jobs=-1)]: Using backend LokyBackend with 8 concurrent workers.\n",
      "[Parallel(n_jobs=-1)]: Done   2 tasks      | elapsed:    0.0s\n",
      "[Parallel(n_jobs=-1)]: Done 176 tasks      | elapsed:    0.3s\n",
      "[Parallel(n_jobs=-1)]: Done 9200 tasks      | elapsed:    1.5s\n",
      "[Parallel(n_jobs=-1)]: Done 73712 tasks      | elapsed:    9.2s\n",
      "[Parallel(n_jobs=-1)]: Done 156656 tasks      | elapsed:   22.3s\n",
      "[Parallel(n_jobs=-1)]: Done 254455 tasks      | elapsed:   36.4s\n",
      "[Parallel(n_jobs=-1)]: Done 258048 out of 258048 | elapsed:   36.8s finished\n"
     ]
    },
    {
     "name": "stdout",
     "output_type": "stream",
     "text": [
      "Created new image: ID = 350257, Name = BKG_Subtract_B5-Site_3_T000_Z000_20x_GActin_biosensor_purified_proteins_500ms_2--ID346170\n",
      "Image:346585  Name:\"C2-Site_0_T000_Z000_20x_GActin_biosensor_purified_proteins_500ms_2--ID346074\" (owner=rensham)\n",
      "Image:346074  Name:\"2025-09-05_15-32-33-sample-20x_purified_proteins\" (owner=rensham)\n"
     ]
    },
    {
     "name": "stderr",
     "output_type": "stream",
     "text": [
      "[Parallel(n_jobs=-1)]: Using backend LokyBackend with 8 concurrent workers.\n",
      "[Parallel(n_jobs=-1)]: Done   2 tasks      | elapsed:    0.0s\n",
      "[Parallel(n_jobs=-1)]: Done 176 tasks      | elapsed:    0.3s\n",
      "[Parallel(n_jobs=-1)]: Done 8688 tasks      | elapsed:    1.3s\n",
      "[Parallel(n_jobs=-1)]: Done 40944 tasks      | elapsed:    5.5s\n",
      "[Parallel(n_jobs=-1)]: Done 82416 tasks      | elapsed:   11.4s\n",
      "[Parallel(n_jobs=-1)]: Done 133104 tasks      | elapsed:   18.8s\n",
      "[Parallel(n_jobs=-1)]: Done 193008 tasks      | elapsed:   26.9s\n",
      "[Parallel(n_jobs=-1)]: Done 258048 out of 258048 | elapsed:   35.9s finished\n"
     ]
    },
    {
     "name": "stdout",
     "output_type": "stream",
     "text": [
      "Created new image: ID = 350270, Name = BKG_Subtract_C2-Site_0_T000_Z000_20x_GActin_biosensor_purified_proteins_500ms_2--ID346074\n",
      "Image:346586  Name:\"C2-Site_1_T000_Z000_20x_GActin_biosensor_purified_proteins_500ms_2--ID346089\" (owner=rensham)\n",
      "Image:346089  Name:\"2025-09-05_15-32-41-sample-20x_purified_proteins\" (owner=rensham)\n"
     ]
    },
    {
     "name": "stderr",
     "output_type": "stream",
     "text": [
      "[Parallel(n_jobs=-1)]: Using backend LokyBackend with 8 concurrent workers.\n",
      "[Parallel(n_jobs=-1)]: Done   2 tasks      | elapsed:    0.0s\n",
      "[Parallel(n_jobs=-1)]: Done 176 tasks      | elapsed:    0.3s\n",
      "[Parallel(n_jobs=-1)]: Done 8688 tasks      | elapsed:    1.6s\n",
      "[Parallel(n_jobs=-1)]: Done 40944 tasks      | elapsed:    6.9s\n",
      "[Parallel(n_jobs=-1)]: Done 82416 tasks      | elapsed:   13.4s\n",
      "[Parallel(n_jobs=-1)]: Done 133104 tasks      | elapsed:   20.3s\n",
      "[Parallel(n_jobs=-1)]: Done 193008 tasks      | elapsed:   29.5s\n",
      "[Parallel(n_jobs=-1)]: Done 258048 out of 258048 | elapsed:   37.9s finished\n"
     ]
    },
    {
     "name": "stdout",
     "output_type": "stream",
     "text": [
      "Created new image: ID = 350291, Name = BKG_Subtract_C2-Site_1_T000_Z000_20x_GActin_biosensor_purified_proteins_500ms_2--ID346089\n",
      "Image:346587  Name:\"C2-Site_2_T000_Z000_20x_GActin_biosensor_purified_proteins_500ms_2--ID346094\" (owner=rensham)\n",
      "Image:346094  Name:\"2025-09-05_15-32-49-sample-20x_purified_proteins\" (owner=rensham)\n"
     ]
    },
    {
     "name": "stderr",
     "output_type": "stream",
     "text": [
      "[Parallel(n_jobs=-1)]: Using backend LokyBackend with 8 concurrent workers.\n",
      "[Parallel(n_jobs=-1)]: Done   2 tasks      | elapsed:    0.0s\n",
      "[Parallel(n_jobs=-1)]: Done 176 tasks      | elapsed:    0.2s\n",
      "[Parallel(n_jobs=-1)]: Done 6384 tasks      | elapsed:    1.2s\n",
      "[Parallel(n_jobs=-1)]: Done 37872 tasks      | elapsed:    5.0s\n",
      "[Parallel(n_jobs=-1)]: Done 79344 tasks      | elapsed:   10.4s\n",
      "[Parallel(n_jobs=-1)]: Done 130032 tasks      | elapsed:   17.9s\n",
      "[Parallel(n_jobs=-1)]: Done 189936 tasks      | elapsed:   25.8s\n",
      "[Parallel(n_jobs=-1)]: Done 256626 tasks      | elapsed:   36.0s\n",
      "[Parallel(n_jobs=-1)]: Done 258048 out of 258048 | elapsed:   36.6s finished\n"
     ]
    },
    {
     "name": "stdout",
     "output_type": "stream",
     "text": [
      "Created new image: ID = 350300, Name = BKG_Subtract_C2-Site_2_T000_Z000_20x_GActin_biosensor_purified_proteins_500ms_2--ID346094\n",
      "Image:346588  Name:\"C2-Site_3_T000_Z000_20x_GActin_biosensor_purified_proteins_500ms_2--ID346066\" (owner=rensham)\n",
      "Image:346066  Name:\"2025-09-05_15-32-57-sample-20x_purified_proteins\" (owner=rensham)\n"
     ]
    },
    {
     "name": "stderr",
     "output_type": "stream",
     "text": [
      "[Parallel(n_jobs=-1)]: Using backend LokyBackend with 8 concurrent workers.\n",
      "[Parallel(n_jobs=-1)]: Done   2 tasks      | elapsed:    0.0s\n",
      "[Parallel(n_jobs=-1)]: Done 176 tasks      | elapsed:    0.3s\n",
      "[Parallel(n_jobs=-1)]: Done 8688 tasks      | elapsed:    1.2s\n",
      "[Parallel(n_jobs=-1)]: Done 40944 tasks      | elapsed:    5.2s\n",
      "[Parallel(n_jobs=-1)]: Done 82416 tasks      | elapsed:   12.1s\n",
      "[Parallel(n_jobs=-1)]: Done 133104 tasks      | elapsed:   19.4s\n",
      "[Parallel(n_jobs=-1)]: Done 193008 tasks      | elapsed:   28.6s\n",
      "[Parallel(n_jobs=-1)]: Done 258048 out of 258048 | elapsed:   37.5s finished\n"
     ]
    },
    {
     "name": "stdout",
     "output_type": "stream",
     "text": [
      "Created new image: ID = 350301, Name = BKG_Subtract_C2-Site_3_T000_Z000_20x_GActin_biosensor_purified_proteins_500ms_2--ID346066\n",
      "Image:346589  Name:\"C3-Site_0_T000_Z000_20x_GActin_biosensor_purified_proteins_500ms_2--ID346060\" (owner=rensham)\n",
      "Image:346060  Name:\"2025-09-05_15-33-05-sample-20x_purified_proteins\" (owner=rensham)\n"
     ]
    },
    {
     "name": "stderr",
     "output_type": "stream",
     "text": [
      "[Parallel(n_jobs=-1)]: Using backend LokyBackend with 8 concurrent workers.\n",
      "[Parallel(n_jobs=-1)]: Done   2 tasks      | elapsed:    0.0s\n",
      "[Parallel(n_jobs=-1)]: Done 176 tasks      | elapsed:    0.3s\n",
      "[Parallel(n_jobs=-1)]: Done 8688 tasks      | elapsed:    1.3s\n",
      "[Parallel(n_jobs=-1)]: Done 40944 tasks      | elapsed:    6.1s\n",
      "[Parallel(n_jobs=-1)]: Done 82416 tasks      | elapsed:   13.7s\n",
      "[Parallel(n_jobs=-1)]: Done 133104 tasks      | elapsed:   21.3s\n",
      "[Parallel(n_jobs=-1)]: Done 193008 tasks      | elapsed:   30.5s\n",
      "[Parallel(n_jobs=-1)]: Done 258048 out of 258048 | elapsed:   40.1s finished\n"
     ]
    },
    {
     "name": "stdout",
     "output_type": "stream",
     "text": [
      "Created new image: ID = 350302, Name = BKG_Subtract_C3-Site_0_T000_Z000_20x_GActin_biosensor_purified_proteins_500ms_2--ID346060\n",
      "Image:346590  Name:\"C3-Site_1_T000_Z000_20x_GActin_biosensor_purified_proteins_500ms_2--ID346165\" (owner=rensham)\n",
      "Image:346165  Name:\"2025-09-05_15-33-13-sample-20x_purified_proteins\" (owner=rensham)\n"
     ]
    },
    {
     "name": "stderr",
     "output_type": "stream",
     "text": [
      "[Parallel(n_jobs=-1)]: Using backend LokyBackend with 8 concurrent workers.\n",
      "[Parallel(n_jobs=-1)]: Done   2 tasks      | elapsed:    0.0s\n",
      "[Parallel(n_jobs=-1)]: Done 176 tasks      | elapsed:    0.3s\n",
      "[Parallel(n_jobs=-1)]: Done 8688 tasks      | elapsed:    1.4s\n",
      "[Parallel(n_jobs=-1)]: Done 40944 tasks      | elapsed:    5.6s\n",
      "[Parallel(n_jobs=-1)]: Done 82416 tasks      | elapsed:   11.8s\n",
      "[Parallel(n_jobs=-1)]: Done 133104 tasks      | elapsed:   19.1s\n",
      "[Parallel(n_jobs=-1)]: Done 193008 tasks      | elapsed:   27.4s\n",
      "[Parallel(n_jobs=-1)]: Done 258048 out of 258048 | elapsed:   36.9s finished\n"
     ]
    },
    {
     "name": "stdout",
     "output_type": "stream",
     "text": [
      "Created new image: ID = 350303, Name = BKG_Subtract_C3-Site_1_T000_Z000_20x_GActin_biosensor_purified_proteins_500ms_2--ID346165\n",
      "Image:346591  Name:\"C3-Site_2_T000_Z000_20x_GActin_biosensor_purified_proteins_500ms_2--ID346119\" (owner=rensham)\n",
      "Image:346119  Name:\"2025-09-05_15-33-21-sample-20x_purified_proteins\" (owner=rensham)\n"
     ]
    },
    {
     "name": "stderr",
     "output_type": "stream",
     "text": [
      "[Parallel(n_jobs=-1)]: Using backend LokyBackend with 8 concurrent workers.\n",
      "[Parallel(n_jobs=-1)]: Done   2 tasks      | elapsed:    0.0s\n",
      "[Parallel(n_jobs=-1)]: Done 176 tasks      | elapsed:    0.3s\n",
      "[Parallel(n_jobs=-1)]: Done 8688 tasks      | elapsed:    1.2s\n",
      "[Parallel(n_jobs=-1)]: Done 40944 tasks      | elapsed:    5.0s\n",
      "[Parallel(n_jobs=-1)]: Done 82416 tasks      | elapsed:   11.5s\n",
      "[Parallel(n_jobs=-1)]: Done 133104 tasks      | elapsed:   18.5s\n",
      "[Parallel(n_jobs=-1)]: Done 193008 tasks      | elapsed:   27.1s\n",
      "[Parallel(n_jobs=-1)]: Done 258048 out of 258048 | elapsed:   35.6s finished\n"
     ]
    },
    {
     "name": "stdout",
     "output_type": "stream",
     "text": [
      "Created new image: ID = 350304, Name = BKG_Subtract_C3-Site_2_T000_Z000_20x_GActin_biosensor_purified_proteins_500ms_2--ID346119\n",
      "Image:346592  Name:\"C3-Site_3_T000_Z000_20x_GActin_biosensor_purified_proteins_500ms_2--ID346081\" (owner=rensham)\n",
      "Image:346081  Name:\"2025-09-05_15-33-29-sample-20x_purified_proteins\" (owner=rensham)\n"
     ]
    },
    {
     "name": "stderr",
     "output_type": "stream",
     "text": [
      "[Parallel(n_jobs=-1)]: Using backend LokyBackend with 8 concurrent workers.\n",
      "[Parallel(n_jobs=-1)]: Done   2 tasks      | elapsed:    0.0s\n",
      "[Parallel(n_jobs=-1)]: Done 176 tasks      | elapsed:    0.3s\n",
      "[Parallel(n_jobs=-1)]: Done 8688 tasks      | elapsed:    1.3s\n",
      "[Parallel(n_jobs=-1)]: Done 40944 tasks      | elapsed:    5.9s\n",
      "[Parallel(n_jobs=-1)]: Done 82416 tasks      | elapsed:   11.5s\n",
      "[Parallel(n_jobs=-1)]: Done 133104 tasks      | elapsed:   18.8s\n",
      "[Parallel(n_jobs=-1)]: Done 193008 tasks      | elapsed:   27.2s\n",
      "[Parallel(n_jobs=-1)]: Done 258048 out of 258048 | elapsed:   37.0s finished\n"
     ]
    },
    {
     "name": "stdout",
     "output_type": "stream",
     "text": [
      "Created new image: ID = 350305, Name = BKG_Subtract_C3-Site_3_T000_Z000_20x_GActin_biosensor_purified_proteins_500ms_2--ID346081\n",
      "Image:346593  Name:\"C4-Site_0_T000_Z000_20x_GActin_biosensor_purified_proteins_500ms_2--ID346051\" (owner=rensham)\n",
      "Image:346051  Name:\"2025-09-05_15-33-38-sample-20x_purified_proteins\" (owner=rensham)\n"
     ]
    },
    {
     "name": "stderr",
     "output_type": "stream",
     "text": [
      "[Parallel(n_jobs=-1)]: Using backend LokyBackend with 8 concurrent workers.\n",
      "[Parallel(n_jobs=-1)]: Done   2 tasks      | elapsed:    0.0s\n",
      "[Parallel(n_jobs=-1)]: Done 176 tasks      | elapsed:    0.2s\n",
      "[Parallel(n_jobs=-1)]: Done 8688 tasks      | elapsed:    1.2s\n",
      "[Parallel(n_jobs=-1)]: Done 40944 tasks      | elapsed:    5.2s\n",
      "[Parallel(n_jobs=-1)]: Done 82416 tasks      | elapsed:   11.8s\n",
      "[Parallel(n_jobs=-1)]: Done 133104 tasks      | elapsed:   18.8s\n",
      "[Parallel(n_jobs=-1)]: Done 193008 tasks      | elapsed:   27.8s\n",
      "[Parallel(n_jobs=-1)]: Done 258048 out of 258048 | elapsed:   36.5s finished\n"
     ]
    },
    {
     "name": "stdout",
     "output_type": "stream",
     "text": [
      "Created new image: ID = 350306, Name = BKG_Subtract_C4-Site_0_T000_Z000_20x_GActin_biosensor_purified_proteins_500ms_2--ID346051\n",
      "Image:346594  Name:\"C4-Site_1_T000_Z000_20x_GActin_biosensor_purified_proteins_500ms_2--ID346132\" (owner=rensham)\n",
      "Image:346132  Name:\"2025-09-05_15-33-46-sample-20x_purified_proteins\" (owner=rensham)\n"
     ]
    },
    {
     "name": "stderr",
     "output_type": "stream",
     "text": [
      "[Parallel(n_jobs=-1)]: Using backend LokyBackend with 8 concurrent workers.\n",
      "[Parallel(n_jobs=-1)]: Done   2 tasks      | elapsed:    0.0s\n",
      "[Parallel(n_jobs=-1)]: Done 176 tasks      | elapsed:    0.2s\n",
      "[Parallel(n_jobs=-1)]: Done 8688 tasks      | elapsed:    1.2s\n",
      "[Parallel(n_jobs=-1)]: Done 40944 tasks      | elapsed:    5.9s\n",
      "[Parallel(n_jobs=-1)]: Done 82416 tasks      | elapsed:   11.7s\n",
      "[Parallel(n_jobs=-1)]: Done 133104 tasks      | elapsed:   19.4s\n",
      "[Parallel(n_jobs=-1)]: Done 193008 tasks      | elapsed:   27.7s\n",
      "[Parallel(n_jobs=-1)]: Done 258048 out of 258048 | elapsed:   37.5s finished\n"
     ]
    },
    {
     "name": "stdout",
     "output_type": "stream",
     "text": [
      "Created new image: ID = 350307, Name = BKG_Subtract_C4-Site_1_T000_Z000_20x_GActin_biosensor_purified_proteins_500ms_2--ID346132\n",
      "Image:346595  Name:\"C4-Site_2_T000_Z000_20x_GActin_biosensor_purified_proteins_500ms_2--ID346172\" (owner=rensham)\n",
      "Image:346172  Name:\"2025-09-05_15-33-54-sample-20x_purified_proteins\" (owner=rensham)\n"
     ]
    },
    {
     "name": "stderr",
     "output_type": "stream",
     "text": [
      "[Parallel(n_jobs=-1)]: Using backend LokyBackend with 8 concurrent workers.\n",
      "[Parallel(n_jobs=-1)]: Done   2 tasks      | elapsed:    0.0s\n",
      "[Parallel(n_jobs=-1)]: Done 176 tasks      | elapsed:    0.2s\n",
      "[Parallel(n_jobs=-1)]: Done 8688 tasks      | elapsed:    1.5s\n",
      "[Parallel(n_jobs=-1)]: Done 40944 tasks      | elapsed:    6.7s\n",
      "[Parallel(n_jobs=-1)]: Done 82416 tasks      | elapsed:   13.8s\n",
      "[Parallel(n_jobs=-1)]: Done 133104 tasks      | elapsed:   21.0s\n",
      "[Parallel(n_jobs=-1)]: Done 193008 tasks      | elapsed:   30.1s\n",
      "[Parallel(n_jobs=-1)]: Done 258048 out of 258048 | elapsed:   39.1s finished\n"
     ]
    },
    {
     "name": "stdout",
     "output_type": "stream",
     "text": [
      "Created new image: ID = 350308, Name = BKG_Subtract_C4-Site_2_T000_Z000_20x_GActin_biosensor_purified_proteins_500ms_2--ID346172\n",
      "Image:346596  Name:\"C4-Site_3_T000_Z000_20x_GActin_biosensor_purified_proteins_500ms_2--ID346153\" (owner=rensham)\n",
      "Image:346153  Name:\"2025-09-05_15-34-02-sample-20x_purified_proteins\" (owner=rensham)\n"
     ]
    },
    {
     "name": "stderr",
     "output_type": "stream",
     "text": [
      "[Parallel(n_jobs=-1)]: Using backend LokyBackend with 8 concurrent workers.\n",
      "[Parallel(n_jobs=-1)]: Done   2 tasks      | elapsed:    0.0s\n",
      "[Parallel(n_jobs=-1)]: Done 176 tasks      | elapsed:    0.2s\n",
      "[Parallel(n_jobs=-1)]: Done 8688 tasks      | elapsed:    1.4s\n",
      "[Parallel(n_jobs=-1)]: Done 40944 tasks      | elapsed:    5.3s\n",
      "[Parallel(n_jobs=-1)]: Done 82416 tasks      | elapsed:   11.0s\n",
      "[Parallel(n_jobs=-1)]: Done 133104 tasks      | elapsed:   19.0s\n",
      "[Parallel(n_jobs=-1)]: Done 193008 tasks      | elapsed:   27.8s\n",
      "[Parallel(n_jobs=-1)]: Done 258048 out of 258048 | elapsed:   37.3s finished\n"
     ]
    },
    {
     "name": "stdout",
     "output_type": "stream",
     "text": [
      "Created new image: ID = 350309, Name = BKG_Subtract_C4-Site_3_T000_Z000_20x_GActin_biosensor_purified_proteins_500ms_2--ID346153\n",
      "Image:346540  Name:\"B2-Site_0_T000_Z000_20x_GActin_biosensor_purified_proteins_500ms_2--ID346129\" (owner=rensham)\n",
      "Image:346129  Name:\"2025-09-05_15-32-00-sample-20x_purified_proteins\" (owner=rensham)\n"
     ]
    },
    {
     "name": "stderr",
     "output_type": "stream",
     "text": [
      "[Parallel(n_jobs=-1)]: Using backend LokyBackend with 8 concurrent workers.\n",
      "[Parallel(n_jobs=-1)]: Done   2 tasks      | elapsed:    0.0s\n",
      "[Parallel(n_jobs=-1)]: Done 176 tasks      | elapsed:    0.3s\n",
      "[Parallel(n_jobs=-1)]: Done 8688 tasks      | elapsed:    1.6s\n",
      "[Parallel(n_jobs=-1)]: Done 40944 tasks      | elapsed:    6.3s\n",
      "[Parallel(n_jobs=-1)]: Done 82416 tasks      | elapsed:   12.2s\n",
      "[Parallel(n_jobs=-1)]: Done 133104 tasks      | elapsed:   18.7s\n",
      "[Parallel(n_jobs=-1)]: Done 193008 tasks      | elapsed:   27.4s\n",
      "[Parallel(n_jobs=-1)]: Done 258048 out of 258048 | elapsed:   36.5s finished\n"
     ]
    },
    {
     "name": "stdout",
     "output_type": "stream",
     "text": [
      "Created new image: ID = 350310, Name = BKG_Subtract_B2-Site_0_T000_Z000_20x_GActin_biosensor_purified_proteins_500ms_2--ID346129\n",
      "Image:346541  Name:\"B2-Site_1_T000_Z000_20x_GActin_biosensor_purified_proteins_500ms_2--ID346114\" (owner=rensham)\n",
      "Image:346114  Name:\"2025-09-05_15-32-08-sample-20x_purified_proteins\" (owner=rensham)\n"
     ]
    },
    {
     "name": "stderr",
     "output_type": "stream",
     "text": [
      "[Parallel(n_jobs=-1)]: Using backend LokyBackend with 8 concurrent workers.\n",
      "[Parallel(n_jobs=-1)]: Done   2 tasks      | elapsed:    0.0s\n",
      "[Parallel(n_jobs=-1)]: Done 176 tasks      | elapsed:    0.3s\n",
      "[Parallel(n_jobs=-1)]: Done 8688 tasks      | elapsed:    1.2s\n",
      "[Parallel(n_jobs=-1)]: Done 40944 tasks      | elapsed:    4.4s\n",
      "[Parallel(n_jobs=-1)]: Done 82416 tasks      | elapsed:   10.0s\n",
      "[Parallel(n_jobs=-1)]: Done 133104 tasks      | elapsed:   17.0s\n",
      "[Parallel(n_jobs=-1)]: Done 193008 tasks      | elapsed:   25.4s\n",
      "[Parallel(n_jobs=-1)]: Done 258048 out of 258048 | elapsed:   36.5s finished\n"
     ]
    },
    {
     "name": "stdout",
     "output_type": "stream",
     "text": [
      "Created new image: ID = 350311, Name = BKG_Subtract_B2-Site_1_T000_Z000_20x_GActin_biosensor_purified_proteins_500ms_2--ID346114\n",
      "Image:346542  Name:\"B2-Site_2_T000_Z000_20x_GActin_biosensor_purified_proteins_500ms_2--ID346163\" (owner=rensham)\n",
      "Image:346163  Name:\"2025-09-05_15-32-16-sample-20x_purified_proteins\" (owner=rensham)\n"
     ]
    },
    {
     "name": "stderr",
     "output_type": "stream",
     "text": [
      "[Parallel(n_jobs=-1)]: Using backend LokyBackend with 8 concurrent workers.\n",
      "[Parallel(n_jobs=-1)]: Done   2 tasks      | elapsed:    0.0s\n",
      "[Parallel(n_jobs=-1)]: Done 176 tasks      | elapsed:    0.3s\n",
      "[Parallel(n_jobs=-1)]: Done 8688 tasks      | elapsed:    1.6s\n",
      "[Parallel(n_jobs=-1)]: Done 40944 tasks      | elapsed:    6.6s\n",
      "[Parallel(n_jobs=-1)]: Done 82416 tasks      | elapsed:   12.7s\n",
      "[Parallel(n_jobs=-1)]: Done 133104 tasks      | elapsed:   20.0s\n",
      "[Parallel(n_jobs=-1)]: Done 193008 tasks      | elapsed:   27.9s\n",
      "[Parallel(n_jobs=-1)]: Done 258048 out of 258048 | elapsed:   36.9s finished\n"
     ]
    },
    {
     "name": "stdout",
     "output_type": "stream",
     "text": [
      "Created new image: ID = 350312, Name = BKG_Subtract_B2-Site_2_T000_Z000_20x_GActin_biosensor_purified_proteins_500ms_2--ID346163\n",
      "Image:346543  Name:\"B2-Site_3_T000_Z000_20x_GActin_biosensor_purified_proteins_500ms_2--ID346116\" (owner=rensham)\n",
      "Image:346116  Name:\"2025-09-05_15-32-24-sample-20x_purified_proteins\" (owner=rensham)\n"
     ]
    },
    {
     "name": "stderr",
     "output_type": "stream",
     "text": [
      "[Parallel(n_jobs=-1)]: Using backend LokyBackend with 8 concurrent workers.\n",
      "[Parallel(n_jobs=-1)]: Done   2 tasks      | elapsed:    0.0s\n",
      "[Parallel(n_jobs=-1)]: Done 176 tasks      | elapsed:    0.3s\n",
      "[Parallel(n_jobs=-1)]: Done 8688 tasks      | elapsed:    1.3s\n",
      "[Parallel(n_jobs=-1)]: Done 40944 tasks      | elapsed:    4.7s\n",
      "[Parallel(n_jobs=-1)]: Done 82416 tasks      | elapsed:   11.3s\n",
      "[Parallel(n_jobs=-1)]: Done 133104 tasks      | elapsed:   17.9s\n",
      "[Parallel(n_jobs=-1)]: Done 193008 tasks      | elapsed:   26.7s\n",
      "[Parallel(n_jobs=-1)]: Done 258048 out of 258048 | elapsed:   36.2s finished\n"
     ]
    },
    {
     "name": "stdout",
     "output_type": "stream",
     "text": [
      "Created new image: ID = 350313, Name = BKG_Subtract_B2-Site_3_T000_Z000_20x_GActin_biosensor_purified_proteins_500ms_2--ID346116\n",
      "Image:346544  Name:\"B3-Site_0_T000_Z000_20x_GActin_biosensor_purified_proteins_500ms_2--ID346110\" (owner=rensham)\n",
      "Image:346110  Name:\"2025-09-05_15-31-28-sample-20x_purified_proteins\" (owner=rensham)\n"
     ]
    },
    {
     "name": "stderr",
     "output_type": "stream",
     "text": [
      "[Parallel(n_jobs=-1)]: Using backend LokyBackend with 8 concurrent workers.\n",
      "[Parallel(n_jobs=-1)]: Done   2 tasks      | elapsed:    0.0s\n",
      "[Parallel(n_jobs=-1)]: Done 176 tasks      | elapsed:    0.3s\n",
      "[Parallel(n_jobs=-1)]: Done 8688 tasks      | elapsed:    1.3s\n",
      "[Parallel(n_jobs=-1)]: Done 40944 tasks      | elapsed:    5.2s\n",
      "[Parallel(n_jobs=-1)]: Done 82416 tasks      | elapsed:   10.6s\n",
      "[Parallel(n_jobs=-1)]: Done 133104 tasks      | elapsed:   17.8s\n",
      "[Parallel(n_jobs=-1)]: Done 193008 tasks      | elapsed:   25.5s\n",
      "[Parallel(n_jobs=-1)]: Done 258048 out of 258048 | elapsed:   35.4s finished\n"
     ]
    },
    {
     "name": "stdout",
     "output_type": "stream",
     "text": [
      "Created new image: ID = 350314, Name = BKG_Subtract_B3-Site_0_T000_Z000_20x_GActin_biosensor_purified_proteins_500ms_2--ID346110\n",
      "Image:346545  Name:\"B3-Site_1_T000_Z000_20x_GActin_biosensor_purified_proteins_500ms_2--ID346097\" (owner=rensham)\n",
      "Image:346097  Name:\"2025-09-05_15-31-36-sample-20x_purified_proteins\" (owner=rensham)\n"
     ]
    },
    {
     "name": "stderr",
     "output_type": "stream",
     "text": [
      "[Parallel(n_jobs=-1)]: Using backend LokyBackend with 8 concurrent workers.\n",
      "[Parallel(n_jobs=-1)]: Done   2 tasks      | elapsed:    0.0s\n",
      "[Parallel(n_jobs=-1)]: Done 176 tasks      | elapsed:    0.3s\n",
      "[Parallel(n_jobs=-1)]: Done 8688 tasks      | elapsed:    1.3s\n",
      "[Parallel(n_jobs=-1)]: Done 40944 tasks      | elapsed:    5.3s\n",
      "[Parallel(n_jobs=-1)]: Done 82416 tasks      | elapsed:   11.7s\n",
      "[Parallel(n_jobs=-1)]: Done 133104 tasks      | elapsed:   18.9s\n",
      "[Parallel(n_jobs=-1)]: Done 193008 tasks      | elapsed:   27.0s\n",
      "[Parallel(n_jobs=-1)]: Done 258048 out of 258048 | elapsed:   35.7s finished\n"
     ]
    },
    {
     "name": "stdout",
     "output_type": "stream",
     "text": [
      "Created new image: ID = 350315, Name = BKG_Subtract_B3-Site_1_T000_Z000_20x_GActin_biosensor_purified_proteins_500ms_2--ID346097\n"
     ]
    }
   ],
   "source": [
    "for sample_id in list_of_sample_ids:\n",
    "    image_object = omero.get_image (conn, sample_id)\n",
    "    md = omero.get_key_value_metadata (image_object)\n",
    "    phase_image_id = md[\"phase_series_image_id\"]\n",
    "    n_phases = md[\"Toggel-Number of Phases\"]\n",
    "    reference_image_id = md[\"reference_image_id\"]\n",
    "    \n",
    "    phase_object = omero.get_image (conn, phase_image_id)\n",
    "    \n",
    "    # get phase series\n",
    "    pixels = phase_object.getPrimaryPixels()\n",
    "    zct_list = [[0, 0, phase] for phase in range(int(n_phases))] # define zct_list\n",
    "    phase_series = omero.get_planes(zct_list, pixels)\n",
    "    \n",
    "    background_subtracted = []\n",
    "    for i, plane in enumerate(phase_series):\n",
    "        subtract_background = np.subtract(plane, median_background_stack[i])\n",
    "        background_subtracted.append(subtract_background)\n",
    "    \n",
    "    phase_stack_bkg_subtracted = np.stack(background_subtracted, axis=0)\n",
    "\n",
    "    # Fit processed series    \n",
    "    # calibrate reference\n",
    "    \n",
    "    if (reference_image_id != current_ref_id): \n",
    "        # check to see if reference has already been used for calibration\n",
    "        # load reference image object from omero\n",
    "        ref_img_obj = conn.getObject(\"Image\", reference_image_id)\n",
    "        height = ref_img_obj.getSizeY()\n",
    "        width = ref_img_obj.getSizeX()\n",
    "        \n",
    "        # read reference metadata\n",
    "        ref_metadata = omero.get_key_value_metadata (ref_img_obj)\n",
    "        frequency = float(ref_metadata[\"modulation_frequency_Hz\"])\n",
    "        ref_lifetime = float(ref_metadata[\"reference_lifetime_ns\"])\n",
    "        n_phases = int(ref_metadata[\"n_phases\"])       \n",
    "        \n",
    "        # calculate expected values for reference lifetime with modulation frequency and number of phases\n",
    "        omega, phases, phase_delay_radians, modulation_depth = toggel.calculate_expected_values (frequency, ref_lifetime, n_phases)\n",
    "        #key_value_pairs.append([\"omega\", str(omega)])\n",
    "        #key_value_pairs.append([\"frequency_Hz\", str(frequency)])\n",
    "        \n",
    "        # get phase series\n",
    "        pixels = ref_img_obj.getPrimaryPixels()\n",
    "        zct_list = [[0, 0, phase] for phase in range(int(n_phases))] # define zct_list\n",
    "        ref_phase_series = omero.get_planes(zct_list, pixels)\n",
    "        \n",
    "        # calibrate reference\n",
    "        #ref_mean, A_fitted, phi_fitted, offset_fitted, phases, calibration_m, calibration_phi = toggel.calibrate_reference (ref_phase_series, phases, phase_delay_radians, modulation_depth, width, height)\n",
    "        # Initialise fitting function\n",
    "        calibration_fun = toggel.FDFLIM_calibration(\n",
    "            ref_phase_series, \n",
    "            phases, \n",
    "            phase_delay_radians, \n",
    "            modulation_depth,\n",
    "            sine_wave\n",
    "            )\n",
    "        \n",
    "        # Run in parallel\n",
    "        print(f\"Calibrating reference image: ID---{reference_image_id}\")\n",
    "        calibration_results = Parallel(n_jobs=-1, backend=\"loky\", verbose=5)(\n",
    "            delayed(calibration_fun.fit_pixel)(x, y) for x, y in np.argwhere(np.min(ref_phase_series, axis=0) > 0)\n",
    "        )\n",
    "        \n",
    "        # Initialize arrays to hold the modulation and phase results\n",
    "        calibration_m = np.zeros((height, width)) # modulation depth calibration values\n",
    "        calibration_phi = np.zeros((height, width)) # phase shift calibration values\n",
    "        A_fitted = np.zeros((height, width))\n",
    "        phi_fitted = np.zeros((height, width))\n",
    "        offset_fitted = np.zeros((height, width))\n",
    "        ref_mean = np.zeros((height, width))\n",
    "        \n",
    "        # populate with results\n",
    "        for x, y, signal_mean, A_fit, phi_fit, offset_fit, cal_m, cal_phi in calibration_results:\n",
    "            calibration_m[x, y] = cal_m\n",
    "            calibration_phi[x, y] = cal_phi\n",
    "            A_fitted[x, y] = A_fit\n",
    "            phi_fitted[x, y] = phi_fit\n",
    "            offset_fitted[x,y] = offset_fit\n",
    "            ref_mean[x, y] = signal_mean\n",
    "                \n",
    "        current_ref_id = reference_image_id\n",
    "\n",
    "    # Initialise fitting function\n",
    "    fit_function = toggel.FDFLIM_fitter(                    \n",
    "            phase_stack_bkg_subtracted,\n",
    "            ref_mean,\n",
    "            A_fitted,\n",
    "            phi_fitted,\n",
    "            offset_fitted,\n",
    "            calibration_m,\n",
    "            calibration_phi,\n",
    "            phases,\n",
    "            frequency,\n",
    "            sine_wave\n",
    "        )\n",
    "    \n",
    "    # Mask of valid pixels\n",
    "    int_min = np.min(phase_stack_bkg_subtracted, axis=0)\n",
    "    int_max = np.max(phase_stack_bkg_subtracted, axis=0)\n",
    "    \n",
    "    valid_pixels = np.argwhere(((int_min >= 0) & (int_max <= 15000))) # exclude pixels where the lowest value in the phase images is negative and max value is close to saturation/saturated\n",
    "    \n",
    "    # Run in parallel\n",
    "    results = Parallel(n_jobs=-1, backend=\"loky\", verbose=5)(\n",
    "        delayed(fit_function.fit_pixel)(x, y) for x, y in valid_pixels\n",
    "    )\n",
    "    \n",
    "    # output arrays\n",
    "    g_values_array = np.full((height, width), np.nan)\n",
    "    s_values_array = np.full((height, width), np.nan)\n",
    "    phase_tau_array = np.full((height, width), np.nan)\n",
    "    mod_tau_array = np.full((height, width), np.nan)\n",
    "    signal_int_array = np.full((height, width), np.nan)\n",
    "    \n",
    "    # populate with results\n",
    "    for x, y, g, s, phase_tau, mod_tau, sig_int in results:\n",
    "        # lifetime quality filter\n",
    "        if ((0 <= g <= 1) & (0 <= s <= 1) & (0 < phase_tau <= 24000) & (0 < mod_tau <= 24000)):\n",
    "            g_values_array[x, y] = g\n",
    "            s_values_array[x, y] = s\n",
    "            phase_tau_array[x, y] = phase_tau\n",
    "            mod_tau_array[x, y] = mod_tau\n",
    "            signal_int_array[x, y] = sig_int\n",
    "\n",
    "    key_value_pairs = [[str(key), str(value)] for key, value in md.items() if not (isinstance(value, float) and np.isnan(value))]\n",
    "    key_value_pairs.append([\"background_image_ids\", str(list_of_bkg_ids)])\n",
    "    key_value_pairs.append([\"image_processing\", \"background subtraction\"])\n",
    "\n",
    "    # processed images to OMERO\n",
    "    sample_name = image_object.getName()\n",
    "    image_title = f\"BKG_Subtract_{sample_name}\"\n",
    "    pixel_size_um = image_object.getPixelSizeX()\n",
    "    map_ann = image_object.getAnnotation()\n",
    "    \n",
    "    # ensure consistency of pixel type\n",
    "    image_list = [arr.astype(np.float32) for arr in [signal_int_array, mod_tau_array, phase_tau_array, g_values_array, s_values_array]]\n",
    "        \n",
    "    # Stack into a 3D array (C, Y, X)\n",
    "    image_stack = np.stack(image_list, axis=0)\n",
    "    \n",
    "    # list of channel names\n",
    "    channel_names = [\"intensity\", \"lifetime_modulation\", \"lifetime_phase\", \"g_values\", \"s_values\"]\n",
    "    channel_labels = dict(enumerate(channel_names, start=1))\n",
    "            \n",
    "    # image description\n",
    "    desc = f\"Frequency domain FLIM data processed from phase series from omero ID: {phase_image_id}.\"\n",
    "    \n",
    "    # upload image to OMERO\n",
    "    image_obj = omero.create_image(\n",
    "        conn, image_title, dataset_id, key_value_pairs, image_stack, channel_names=channel_names, \n",
    "        description=desc, sizeZ=1, sizeC=len(image_stack), sizeT=1, pixel_size_um = pixel_size_um, \n",
    "        sourceImageId=sample_id\n",
    "    )"
   ]
  },
  {
   "cell_type": "code",
   "execution_count": null,
   "id": "6057ee85-7111-4b48-943f-a7ee9105bc97",
   "metadata": {},
   "outputs": [],
   "source": []
  },
  {
   "cell_type": "code",
   "execution_count": null,
   "id": "0492c189-034d-49d4-a074-944ad9543207",
   "metadata": {},
   "outputs": [],
   "source": []
  },
  {
   "cell_type": "code",
   "execution_count": null,
   "id": "23a88f44-19f1-470d-8d50-20d3ad48fe73",
   "metadata": {},
   "outputs": [],
   "source": []
  },
  {
   "cell_type": "code",
   "execution_count": null,
   "id": "df1085d3-f188-42dc-8660-77427194b5e1",
   "metadata": {},
   "outputs": [],
   "source": []
  },
  {
   "cell_type": "code",
   "execution_count": 60,
   "id": "6fd68750-bd78-44f2-b0b8-1ea019c85de3",
   "metadata": {},
   "outputs": [
    {
     "name": "stdout",
     "output_type": "stream",
     "text": [
      "Image:346575  Name:\"B3-Site_2_T000_Z000_20x_GActin_biosensor_purified_proteins_500ms_2--ID346090\" (owner=rensham)\n",
      "Image:346090  Name:\"2025-09-05_15-31-44-sample-20x_purified_proteins\" (owner=rensham)\n"
     ]
    }
   ],
   "source": [
    "sample_id = list_of_sample_ids[0]\n",
    "\n",
    "image_object = omero.get_image (conn, sample_id)\n",
    "md = omero.get_key_value_metadata (image_object)\n",
    "phase_image_id = md[\"phase_series_image_id\"]\n",
    "n_phases = md[\"Toggel-Number of Phases\"]\n",
    "reference_image_id = md[\"reference_image_id\"]\n",
    "\n",
    "phase_object = omero.get_image (conn, phase_image_id)\n",
    "\n",
    "# get phase series\n",
    "pixels = phase_object.getPrimaryPixels()\n",
    "zct_list = [[0, 0, phase] for phase in range(int(n_phases))] # define zct_list\n",
    "phase_series = omero.get_planes(zct_list, pixels)\n",
    "\n",
    "background_subtracted = []\n",
    "for i, plane in enumerate(phase_series):\n",
    "    subtract_background = np.subtract(plane, median_background_stack[i])\n",
    "    background_subtracted.append(subtract_background)\n",
    "\n",
    "phase_stack_bkg_subtracted = np.stack(background_subtracted, axis=0)"
   ]
  },
  {
   "cell_type": "code",
   "execution_count": 61,
   "id": "1dfb586d-c37e-4441-892e-e9f761aa3e37",
   "metadata": {},
   "outputs": [
    {
     "data": {
      "text/plain": [
       "(12, 504, 512)"
      ]
     },
     "execution_count": 61,
     "metadata": {},
     "output_type": "execute_result"
    }
   ],
   "source": [
    "phase_stack_bkg_subtracted.shape"
   ]
  },
  {
   "cell_type": "code",
   "execution_count": 70,
   "id": "b88c7e3c-f4db-4d7f-9ce6-22743d30b53f",
   "metadata": {},
   "outputs": [
    {
     "name": "stdout",
     "output_type": "stream",
     "text": [
      "Calibrating reference image: ID---346044\n"
     ]
    },
    {
     "name": "stderr",
     "output_type": "stream",
     "text": [
      "[Parallel(n_jobs=-1)]: Using backend LokyBackend with 8 concurrent workers.\n",
      "[Parallel(n_jobs=-1)]: Done   2 tasks      | elapsed:    0.0s\n",
      "[Parallel(n_jobs=-1)]: Done 176 tasks      | elapsed:    0.1s\n",
      "[Parallel(n_jobs=-1)]: Done 8688 tasks      | elapsed:    1.0s\n",
      "[Parallel(n_jobs=-1)]: Done 40944 tasks      | elapsed:    3.7s\n",
      "[Parallel(n_jobs=-1)]: Done 82416 tasks      | elapsed:    7.5s\n",
      "[Parallel(n_jobs=-1)]: Done 133104 tasks      | elapsed:   11.7s\n",
      "[Parallel(n_jobs=-1)]: Done 193008 tasks      | elapsed:   18.2s\n",
      "[Parallel(n_jobs=-1)]: Done 258048 out of 258048 | elapsed:   26.1s finished\n"
     ]
    }
   ],
   "source": [
    "# Fit processed series    \n",
    "# calibrate reference\n",
    "current_ref_id = None\n",
    "if (reference_image_id != current_ref_id): \n",
    "    # check to see if reference has already been used for calibration\n",
    "    # load reference image object from omero\n",
    "    ref_img_obj = conn.getObject(\"Image\", reference_image_id)\n",
    "    height = ref_img_obj.getSizeY()\n",
    "    width = ref_img_obj.getSizeX()\n",
    "    \n",
    "    # read reference metadata\n",
    "    ref_metadata = omero.get_key_value_metadata (ref_img_obj)\n",
    "    frequency = float(ref_metadata[\"modulation_frequency_Hz\"])\n",
    "    ref_lifetime = float(ref_metadata[\"reference_lifetime_ns\"])\n",
    "    n_phases = int(ref_metadata[\"n_phases\"])       \n",
    "    \n",
    "    # calculate expected values for reference lifetime with modulation frequency and number of phases\n",
    "    omega, phases, phase_delay_radians, modulation_depth = toggel.calculate_expected_values (frequency, ref_lifetime, n_phases)\n",
    "    #key_value_pairs.append([\"omega\", str(omega)])\n",
    "    #key_value_pairs.append([\"frequency_Hz\", str(frequency)])\n",
    "    \n",
    "    # get phase series\n",
    "    pixels = ref_img_obj.getPrimaryPixels()\n",
    "    zct_list = [[0, 0, phase] for phase in range(int(n_phases))] # define zct_list\n",
    "    ref_phase_series = omero.get_planes(zct_list, pixels)\n",
    "    \n",
    "    # calibrate reference\n",
    "    #ref_mean, A_fitted, phi_fitted, offset_fitted, phases, calibration_m, calibration_phi = toggel.calibrate_reference (ref_phase_series, phases, phase_delay_radians, modulation_depth, width, height)\n",
    "    # Initialise fitting function\n",
    "    calibration_fun = toggel.FDFLIM_calibration(\n",
    "        ref_phase_series, \n",
    "        phases, \n",
    "        phase_delay_radians, \n",
    "        modulation_depth,\n",
    "        sine_wave\n",
    "        )\n",
    "    \n",
    "    # Run in parallel\n",
    "    print(f\"Calibrating reference image: ID---{reference_image_id}\")\n",
    "    calibration_results = Parallel(n_jobs=-1, backend=\"loky\", verbose=5)(\n",
    "        delayed(calibration_fun.fit_pixel)(x, y) for x, y in np.argwhere(np.min(ref_phase_series, axis=0) > 0)\n",
    "    )\n",
    "    \n",
    "    # Initialize arrays to hold the modulation and phase results\n",
    "    calibration_m = np.zeros((height, width)) # modulation depth calibration values\n",
    "    calibration_phi = np.zeros((height, width)) # phase shift calibration values\n",
    "    A_fitted = np.zeros((height, width))\n",
    "    phi_fitted = np.zeros((height, width))\n",
    "    offset_fitted = np.zeros((height, width))\n",
    "    ref_mean = np.zeros((height, width))\n",
    "    \n",
    "    # populate with results\n",
    "    for x, y, signal_mean, A_fit, phi_fit, offset_fit, cal_m, cal_phi in calibration_results:\n",
    "        calibration_m[x, y] = cal_m\n",
    "        calibration_phi[x, y] = cal_phi\n",
    "        A_fitted[x, y] = A_fit\n",
    "        phi_fitted[x, y] = phi_fit\n",
    "        offset_fitted[x,y] = offset_fit\n",
    "        ref_mean[x, y] = signal_mean\n",
    "            \n",
    "    current_ref_id = reference_image_id"
   ]
  },
  {
   "cell_type": "code",
   "execution_count": 71,
   "id": "f53048be-358e-4914-9095-d60229b0904b",
   "metadata": {},
   "outputs": [
    {
     "name": "stderr",
     "output_type": "stream",
     "text": [
      "[Parallel(n_jobs=-1)]: Using backend LokyBackend with 8 concurrent workers.\n",
      "[Parallel(n_jobs=-1)]: Done   2 tasks      | elapsed:    0.0s\n",
      "[Parallel(n_jobs=-1)]: Done 176 tasks      | elapsed:    0.3s\n",
      "[Parallel(n_jobs=-1)]: Done 8688 tasks      | elapsed:    1.3s\n",
      "[Parallel(n_jobs=-1)]: Done 40944 tasks      | elapsed:    3.9s\n",
      "[Parallel(n_jobs=-1)]: Done 82416 tasks      | elapsed:    7.5s\n",
      "[Parallel(n_jobs=-1)]: Done 133104 tasks      | elapsed:   13.8s\n",
      "[Parallel(n_jobs=-1)]: Done 193008 tasks      | elapsed:   22.9s\n",
      "[Parallel(n_jobs=-1)]: Done 258048 out of 258048 | elapsed:   31.8s finished\n"
     ]
    }
   ],
   "source": [
    "# Initialise fitting function\n",
    "fit_function = toggel.FDFLIM_fitter(                    \n",
    "        phase_stack_bkg_subtracted,\n",
    "        ref_mean,\n",
    "        A_fitted,\n",
    "        phi_fitted,\n",
    "        offset_fitted,\n",
    "        calibration_m,\n",
    "        calibration_phi,\n",
    "        phases,\n",
    "        frequency,\n",
    "        sine_wave\n",
    "    )\n",
    "\n",
    "# Mask of valid pixels\n",
    "int_min = np.min(phase_stack_bkg_subtracted, axis=0)\n",
    "int_max = np.max(phase_stack_bkg_subtracted, axis=0)\n",
    "\n",
    "valid_pixels = np.argwhere(((int_min >= 0) & (int_max <= 15000))) # exclude pixels where the lowest value in the phase images is negative and max value is close to saturation/saturated\n",
    "\n",
    "# Run in parallel\n",
    "results = Parallel(n_jobs=-1, backend=\"loky\", verbose=5)(\n",
    "    delayed(fit_function.fit_pixel)(x, y) for x, y in valid_pixels\n",
    ")\n",
    "\n",
    "# output arrays\n",
    "g_values_array = np.full((height, width), np.nan)\n",
    "s_values_array = np.full((height, width), np.nan)\n",
    "phase_tau_array = np.full((height, width), np.nan)\n",
    "mod_tau_array = np.full((height, width), np.nan)\n",
    "signal_int_array = np.full((height, width), np.nan)\n",
    "\n",
    "# populate with results\n",
    "for x, y, g, s, phase_tau, mod_tau, sig_int in results:\n",
    "    # lifetime quality filter\n",
    "    if ((0 <= g <= 1) & (0 <= s <= 1) & (0 < phase_tau <= 24000) & (0 < mod_tau <= 24000)):\n",
    "        g_values_array[x, y] = g\n",
    "        s_values_array[x, y] = s\n",
    "        phase_tau_array[x, y] = phase_tau\n",
    "        mod_tau_array[x, y] = mod_tau\n",
    "        signal_int_array[x, y] = sig_int"
   ]
  },
  {
   "cell_type": "code",
   "execution_count": 84,
   "id": "704e19e2-71f3-4567-9a38-188650fa0520",
   "metadata": {},
   "outputs": [],
   "source": [
    "key_value_pairs = [[str(key), str(value)] for key, value in md.items() if not (isinstance(value, float) and np.isnan(value))]\n",
    "key_value_pairs.append([\"background_image_ids\", str(list_of_bkg_ids)])\n",
    "key_value_pairs.append([\"image_processing\", \"background subtraction\"])"
   ]
  },
  {
   "cell_type": "code",
   "execution_count": 85,
   "id": "2094faeb-ccbe-4244-be46-87fb7c5e651f",
   "metadata": {},
   "outputs": [
    {
     "name": "stdout",
     "output_type": "stream",
     "text": [
      "Created new image: ID = 348716, Name = BKG_Subtract_B3-Site_2_T000_Z000_20x_GActin_biosensor_purified_proteins_500ms_2--ID346090\n"
     ]
    }
   ],
   "source": [
    "# processed images to OMERO\n",
    "sample_name = image_object.getName()\n",
    "image_title = f\"BKG_Subtract_{sample_name}\"\n",
    "pixel_size_um = image_object.getPixelSizeX()\n",
    "map_ann = image_object.getAnnotation()\n",
    "\n",
    "# ensure consistency of pixel type\n",
    "image_list = [arr.astype(np.float32) for arr in [signal_int_array, mod_tau_array, phase_tau_array, g_values_array, s_values_array]]\n",
    "    \n",
    "# Stack into a 3D array (C, Y, X)\n",
    "image_stack = np.stack(image_list, axis=0)\n",
    "\n",
    "# list of channel names\n",
    "channel_names = [\"intensity\", \"lifetime_modulation\", \"lifetime_phase\", \"g_values\", \"s_values\"]\n",
    "channel_labels = dict(enumerate(channel_names, start=1))\n",
    "        \n",
    "# image description\n",
    "desc = f\"Frequency domain FLIM data processed from phase series from omero ID: {phase_image_id}.\"\n",
    "\n",
    "# upload image to OMERO\n",
    "image_obj = omero.create_image(\n",
    "    conn, image_title, dataset_id, key_value_pairs, image_stack, channel_names=channel_names, \n",
    "    description=desc, sizeZ=1, sizeC=len(image_stack), sizeT=1, pixel_size_um = pixel_size_um, \n",
    "    sourceImageId=sample_id\n",
    ")"
   ]
  },
  {
   "cell_type": "code",
   "execution_count": 73,
   "id": "274a4215-6432-4b49-905d-d8efc7f9fe30",
   "metadata": {},
   "outputs": [
    {
     "data": {
      "text/plain": [
       "'B3-Site_2_T000_Z000_20x_GActin_biosensor_purified_proteins_500ms_2--ID346090'"
      ]
     },
     "execution_count": 73,
     "metadata": {},
     "output_type": "execute_result"
    }
   ],
   "source": [
    "key_value_pairs = [[str(key), str(value)] for key, value in pos_dict.items() if not (isinstance(value, float) and np.isnan(value))]\n",
    "key_value_pairs.append([\"MicroManager_version\", str(mm_version)])\n",
    "key_value_pairs.append([\"Interval_ms\", str(interval_ms)])\n",
    "key_value_pairs.append([\"MicroManager_filename\", str(filename)])"
   ]
  },
  {
   "cell_type": "code",
   "execution_count": 74,
   "id": "06232ffe-1e08-40b6-977a-80a99400e882",
   "metadata": {},
   "outputs": [
    {
     "ename": "NameError",
     "evalue": "name 'sample_object_id' is not defined",
     "output_type": "error",
     "traceback": [
      "\u001b[1;31m---------------------------------------------------------------------------\u001b[0m",
      "\u001b[1;31mNameError\u001b[0m                                 Traceback (most recent call last)",
      "Cell \u001b[1;32mIn[74], line 1\u001b[0m\n\u001b[1;32m----> 1\u001b[0m sample_object_id\n",
      "\u001b[1;31mNameError\u001b[0m: name 'sample_object_id' is not defined"
     ]
    }
   ],
   "source": [
    "sample_object_id"
   ]
  },
  {
   "cell_type": "code",
   "execution_count": 20,
   "id": "1e85c71e-fc2e-4535-9504-01b066a41e6f",
   "metadata": {},
   "outputs": [
    {
     "name": "stdout",
     "output_type": "stream",
     "text": [
      "Image:346626  Name:\"C5-Site_1_T000_Z000_20x_GActin_biosensor_purified_proteins_500ms_2--ID346064\" (owner=rensham)\n"
     ]
    }
   ],
   "source": [
    "image_object = omero.get_image (conn, 346626)"
   ]
  },
  {
   "cell_type": "code",
   "execution_count": 21,
   "id": "a480a721-cf3a-4638-ba4a-a5a1e4e62773",
   "metadata": {},
   "outputs": [],
   "source": [
    "md = omero.get_key_value_metadata (image_object)"
   ]
  },
  {
   "cell_type": "code",
   "execution_count": 23,
   "id": "1b5e12e5-23b6-422f-aebd-0f3d27f6613f",
   "metadata": {},
   "outputs": [
    {
     "data": {
      "text/plain": [
       "'12'"
      ]
     },
     "execution_count": 23,
     "metadata": {},
     "output_type": "execute_result"
    }
   ],
   "source": [
    "md[\"Toggel-Number of Phases\"]"
   ]
  },
  {
   "cell_type": "code",
   "execution_count": 16,
   "id": "7c7096ba-48c9-41e2-bed4-950ce17050c4",
   "metadata": {},
   "outputs": [
    {
     "data": {
      "text/plain": [
       "'346064'"
      ]
     },
     "execution_count": 16,
     "metadata": {},
     "output_type": "execute_result"
    }
   ],
   "source": [
    "phase_image_id = md[\"phase_series_image_id\"]\n",
    "phase_image_id"
   ]
  },
  {
   "cell_type": "code",
   "execution_count": 17,
   "id": "658c3613-8d3d-4a61-87ca-7c85959bafd6",
   "metadata": {},
   "outputs": [
    {
     "name": "stdout",
     "output_type": "stream",
     "text": [
      "Image:346064  Name:\"2025-09-05_15-34-18-sample-20x_purified_proteins\" (owner=rensham)\n"
     ]
    }
   ],
   "source": [
    "phase_object = omero.get_image (conn, phase_image_id)"
   ]
  },
  {
   "cell_type": "code",
   "execution_count": 18,
   "id": "702d64a2-6057-4fe2-b088-08a395d1ba74",
   "metadata": {},
   "outputs": [
    {
     "data": {
      "text/plain": [
       "12"
      ]
     },
     "execution_count": 18,
     "metadata": {},
     "output_type": "execute_result"
    }
   ],
   "source": [
    "phase_object.getSizeT()"
   ]
  },
  {
   "cell_type": "code",
   "execution_count": null,
   "id": "87d55e08-c997-4792-83da-c59ab3f6d3cf",
   "metadata": {},
   "outputs": [],
   "source": [
    "phase_object = omero.get_image (conn, phase_image_id)\n",
    "n_phases = phase_object.getSizeT()\n",
    "# get phase series\n",
    "pixels = image_object.getPrimaryPixels()\n",
    "zct_list = [[0, 0, phase] for phase in range(n_phases)] # define zct_list\n",
    "phase_series = omero.get_planes(zct_list, pixels)"
   ]
  }
 ],
 "metadata": {
  "kernelspec": {
   "display_name": "Python 3 (ipykernel)",
   "language": "python",
   "name": "python3"
  },
  "language_info": {
   "codemirror_mode": {
    "name": "ipython",
    "version": 3
   },
   "file_extension": ".py",
   "mimetype": "text/x-python",
   "name": "python",
   "nbconvert_exporter": "python",
   "pygments_lexer": "ipython3",
   "version": "3.11.11"
  }
 },
 "nbformat": 4,
 "nbformat_minor": 5
}
